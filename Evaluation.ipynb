{
 "cells": [
  {
   "cell_type": "markdown",
   "id": "3e13eaeb-f420-4dd0-98c8-e60972258dff",
   "metadata": {},
   "source": [
    "## Response Evaluation"
   ]
  },
  {
   "cell_type": "code",
   "execution_count": 12,
   "id": "c4d4efc5-133c-49d9-80ed-030207f0b3db",
   "metadata": {},
   "outputs": [],
   "source": [
    "from llama_index.core import VectorStoreIndex\n",
    "from llama_index.llms.openai import OpenAI\n",
    "from llama_index.core.evaluation import FaithfulnessEvaluator"
   ]
  },
  {
   "cell_type": "code",
   "execution_count": 13,
   "id": "f2a5d388-64cb-4f7b-b412-e9623900a63a",
   "metadata": {},
   "outputs": [],
   "source": [
    "from llama_index.core import SimpleDirectoryReader\n",
    "\n",
    "documents = SimpleDirectoryReader(\"D:\\Data\\LLM\\llamaindex\").load_data()"
   ]
  },
  {
   "cell_type": "code",
   "execution_count": 6,
   "id": "bbfbde92-acef-40db-bb82-8ee6322223bf",
   "metadata": {},
   "outputs": [],
   "source": [
    "#documents"
   ]
  },
  {
   "cell_type": "code",
   "execution_count": 15,
   "id": "603221ab-9936-4c3d-89d3-955e3e6354e8",
   "metadata": {},
   "outputs": [
    {
     "name": "stdin",
     "output_type": "stream",
     "text": [
      " ········\n"
     ]
    }
   ],
   "source": [
    "import getpass\n",
    "import os\n",
    "\n",
    "os.environ[\"OPENAI_API_KEY\"] = getpass.getpass()"
   ]
  },
  {
   "cell_type": "code",
   "execution_count": 16,
   "id": "0d0568f8-faea-43ef-98d7-780b324c12d9",
   "metadata": {},
   "outputs": [],
   "source": [
    "from llama_index.core import VectorStoreIndex\n",
    "index = VectorStoreIndex.from_documents(documents)"
   ]
  },
  {
   "cell_type": "code",
   "execution_count": 41,
   "id": "b9969c2e-5988-427f-9faf-4e7d15fa98a8",
   "metadata": {},
   "outputs": [],
   "source": [
    "# create llm\n",
    "llm = OpenAI(model=\"gpt-3.5-turbo\", temperature=0.0)"
   ]
  },
  {
   "cell_type": "code",
   "execution_count": 18,
   "id": "66cc9464-4f22-4236-a1b8-2855853b8ce8",
   "metadata": {},
   "outputs": [],
   "source": [
    "evaluator = FaithfulnessEvaluator(llm=llm)"
   ]
  },
  {
   "cell_type": "code",
   "execution_count": 20,
   "id": "f582dfb0-5489-4345-8a18-fb6dabc8b9bb",
   "metadata": {},
   "outputs": [],
   "source": [
    "query_engine = index.as_query_engine()"
   ]
  },
  {
   "cell_type": "code",
   "execution_count": 21,
   "id": "dff1c9bc-dd82-4238-a332-e583c37289ae",
   "metadata": {},
   "outputs": [
    {
     "name": "stdout",
     "output_type": "stream",
     "text": [
      "The key sectors of the Indian economy are agriculture, industry, and services.\n"
     ]
    }
   ],
   "source": [
    "response = query_engine.query(\"What are the Key Sectors of the Indian Economy?\")\n",
    "print(response)"
   ]
  },
  {
   "cell_type": "code",
   "execution_count": 27,
   "id": "f2fd4522-1ba4-49be-a702-70471f440cc7",
   "metadata": {},
   "outputs": [],
   "source": [
    "import nest_asyncio\n",
    "nest_asyncio.apply()"
   ]
  },
  {
   "cell_type": "code",
   "execution_count": 26,
   "id": "a5d74cd4-6215-4bf4-aa05-d03d3a4396c0",
   "metadata": {},
   "outputs": [
    {
     "name": "stdout",
     "output_type": "stream",
     "text": [
      "query='What are the Key Sectors of the Indian Economy?' contexts=[\"Indian Economy: An Overview\\nKey Sectors of the Indian Economy\\nAgriculture: Agriculture has historically been the backbone of the Indian economy. It employs around\\n42% of the workforce and contributes approximately 16% to the GDP. Key agricultural products\\ninclude rice, wheat, pulses, spices, and cotton. Despite its importance, the sector faces challenges\\nsuch as low productivity, fragmented land holdings, and dependence on monsoons.\\nIndustry: The industrial sector has witnessed significant growth post-reforms. It contributes about\\n25% to the GDP and includes sub-sectors like manufacturing, mining, and construction. The 'Make\\nin India' initiative launched in 2014 aims to boost manufacturing, attract FDI, and create jobs,\\npositioning India as a global manufacturing hub.\\nServices: The services sector is the largest contributor to the Indian economy, accounting for around\\n55% of the GDP. It encompasses a wide range of activities including IT and IT-enabled services,\\ntelecommunications, banking, retail, and tourism. India's IT industry, centered in cities like\\nBengaluru, Hyderabad, and Pune, is renowned globally and a significant source of export revenue.\\nPage 5\", \"Indian Economy: An Overview\\nIntroduction\\nIndia, one of the world's fastest-growing economies, has shown remarkable resilience and growth\\nover the past few decades. With a population of over 1.4 billion people, it is the world's second-most\\npopulous country and boasts a diverse and complex economy that encompasses agriculture,\\nmanufacturing, and services sectors. This document provides an overview of the Indian economy,\\ntracing its historical background, economic reforms, key sectors, current scenario, challenges, and\\nfuture prospects.\\nPage 2\"] response='The key sectors of the Indian economy are agriculture, industry, and services.' passing=True feedback='YES' score=1.0 pairwise_source=None invalid_result=False invalid_reason=None\n"
     ]
    }
   ],
   "source": [
    "query = \"What are the Key Sectors of the Indian Economy?\"\n",
    "response = query_engine.query(query)\n",
    "eval_result = evaluator.evaluate_response(query=query, response=response)\n",
    "print(str(eval_result))"
   ]
  },
  {
   "cell_type": "code",
   "execution_count": 28,
   "id": "79079da8-a4df-406b-b20c-d400380dfc67",
   "metadata": {},
   "outputs": [
    {
     "name": "stdout",
     "output_type": "stream",
     "text": [
      "True\n"
     ]
    }
   ],
   "source": [
    "eval_result = evaluator.evaluate_response(response=response)\n",
    "print(str(eval_result.passing))"
   ]
  },
  {
   "cell_type": "code",
   "execution_count": 29,
   "id": "d064d428-07dc-4243-8887-52bb9ea3b9d3",
   "metadata": {},
   "outputs": [
    {
     "name": "stdout",
     "output_type": "stream",
     "text": [
      "YES\n"
     ]
    }
   ],
   "source": [
    "eval_result = evaluator.evaluate_response(response=response)\n",
    "print(str(eval_result.feedback))"
   ]
  },
  {
   "cell_type": "markdown",
   "id": "b806e3d1-5968-4993-b329-566d80da5826",
   "metadata": {},
   "source": [
    "## Retrieval Evaluation"
   ]
  },
  {
   "cell_type": "code",
   "execution_count": 32,
   "id": "09518793-e641-4db3-9de3-466f46fea89b",
   "metadata": {},
   "outputs": [],
   "source": [
    "from llama_index.core.evaluation import RetrieverEvaluator\n",
    "from llama_index.core.retrievers import VectorIndexRetriever"
   ]
  },
  {
   "cell_type": "code",
   "execution_count": 37,
   "id": "74a4d80b-bdbe-4395-94c0-65ab49493273",
   "metadata": {},
   "outputs": [],
   "source": [
    "retriever = VectorIndexRetriever(\n",
    "    index=index,\n",
    "    similarity_top_k=2,\n",
    ")"
   ]
  },
  {
   "cell_type": "code",
   "execution_count": 38,
   "id": "58d59646-b12d-483e-a7d2-c400adb232e7",
   "metadata": {},
   "outputs": [],
   "source": [
    "retriever_evaluator = RetrieverEvaluator.from_metric_names(\n",
    "    [\"mrr\", \"hit_rate\"], retriever=retriever\n",
    ")\n"
   ]
  },
  {
   "cell_type": "code",
   "execution_count": 39,
   "id": "405f9df2-ab8c-4de0-86b8-58bcd4c54283",
   "metadata": {},
   "outputs": [
    {
     "data": {
      "text/plain": [
       "RetrievalEvalResult(query='query', expected_ids=['node_id1', 'node_id2'], expected_texts=None, retrieved_ids=['cdb25d78-aa75-4d4f-820e-b2cca53f1487', 'c7722bf7-32bd-4a2f-849b-c185708e800c'], retrieved_texts=['Indian Economy: An Overview\\nIndian Economy: An Overview\\nPage 1', \"Indian Economy: An Overview\\nHistorical Background\\nThe economic history of India is a story of contrast and transformation. Pre-independence, India was\\none of the world's richest economies, heavily relying on agriculture and trade. However, colonial\\nexploitation and subsequent policies led to a significant decline in economic stature.\\nPost-independence in 1947, India adopted a mixed economy model, combining features of both\\ncapitalism and socialism. The government focused on self-reliance, implementing policies of import\\nsubstitution industrialization. The economy, however, was hampered by inefficiencies and slow\\ngrowth, often referred to as the 'Hindu rate of growth.'\\nPage 3\"], mode=<RetrievalEvalMode.TEXT: 'text'>, metric_dict={'mrr': RetrievalMetricResult(score=0.0, metadata={}), 'hit_rate': RetrievalMetricResult(score=0.0, metadata={})})"
      ]
     },
     "execution_count": 39,
     "metadata": {},
     "output_type": "execute_result"
    }
   ],
   "source": [
    "retriever_evaluator.evaluate(\n",
    "    query=\"query\", expected_ids=[\"node_id1\", \"node_id2\"]\n",
    ")"
   ]
  },
  {
   "cell_type": "markdown",
   "id": "b247ae5a-787d-4252-8bef-b4ae43b1911c",
   "metadata": {},
   "source": [
    "## Cost Analysis"
   ]
  },
  {
   "cell_type": "code",
   "execution_count": 42,
   "id": "c73d7e6b-b0a8-42c0-8d7e-5d8c0b6edc63",
   "metadata": {},
   "outputs": [],
   "source": [
    "from llama_index.core.llms import MockLLM\n",
    "from llama_index.core import MockEmbedding\n",
    "\n",
    "llm = MockLLM(max_tokens=256)\n",
    "embed_model = MockEmbedding(embed_dim=1536)"
   ]
  },
  {
   "cell_type": "code",
   "execution_count": 43,
   "id": "5e9ecc98-a806-4203-b712-b0edffad48b8",
   "metadata": {},
   "outputs": [],
   "source": [
    "import tiktoken\n",
    "from llama_index.core.callbacks import CallbackManager, TokenCountingHandler"
   ]
  },
  {
   "cell_type": "code",
   "execution_count": 44,
   "id": "ea2a0e89-81c2-433c-a118-bcb1aa051641",
   "metadata": {},
   "outputs": [],
   "source": [
    "token_counter = TokenCountingHandler(\n",
    "    tokenizer=tiktoken.encoding_for_model(\"gpt-3.5-turbo\").encode\n",
    ")\n",
    "\n",
    "callback_manager = CallbackManager([token_counter])"
   ]
  },
  {
   "cell_type": "code",
   "execution_count": 45,
   "id": "ad2ba82a-ecde-4392-b990-856005a1cca6",
   "metadata": {},
   "outputs": [],
   "source": [
    "from llama_index.core import Settings\n",
    "\n",
    "Settings.llm = llm\n",
    "Settings.embed_model = embed_model\n",
    "Settings.callback_manager = callback_manager"
   ]
  },
  {
   "cell_type": "code",
   "execution_count": 46,
   "id": "51cec493-3ef7-4b6e-a8f6-cfdade7fa164",
   "metadata": {},
   "outputs": [
    {
     "name": "stdout",
     "output_type": "stream",
     "text": [
      "Embedding Tokens:  0 \n",
      " LLM Prompt Tokens:  0 \n",
      " LLM Completion Tokens:  0 \n",
      " Total LLM Token Count:  0 \n",
      "\n"
     ]
    }
   ],
   "source": [
    "print(\n",
    "    \"Embedding Tokens: \",\n",
    "    token_counter.total_embedding_token_count,\n",
    "    \"\\n\",\n",
    "    \"LLM Prompt Tokens: \",\n",
    "    token_counter.prompt_llm_token_count,\n",
    "    \"\\n\",\n",
    "    \"LLM Completion Tokens: \",\n",
    "    token_counter.completion_llm_token_count,\n",
    "    \"\\n\",\n",
    "    \"Total LLM Token Count: \",\n",
    "    token_counter.total_llm_token_count,\n",
    "    \"\\n\",\n",
    ")"
   ]
  },
  {
   "cell_type": "code",
   "execution_count": 47,
   "id": "1442e44b-416e-4c0e-bc32-35e951fee24a",
   "metadata": {},
   "outputs": [],
   "source": [
    "token_counter.reset_counts()"
   ]
  },
  {
   "cell_type": "code",
   "execution_count": 49,
   "id": "a4979f09-cb81-468b-9c8a-2f43c3925490",
   "metadata": {},
   "outputs": [
    {
     "name": "stdout",
     "output_type": "stream",
     "text": [
      "Embedding Tokens:  0 \n",
      " LLM Prompt Tokens:  445 \n",
      " LLM Completion Tokens:  256 \n",
      " Total LLM Token Count:  701 \n",
      "\n"
     ]
    }
   ],
   "source": [
    "query_engine = index.as_query_engine()\n",
    "\n",
    "response = query_engine.query(\"What are the Key Sectors of the Indian Economy?\")\n",
    "\n",
    "print(\n",
    "    \"Embedding Tokens: \",\n",
    "    token_counter.total_embedding_token_count,\n",
    "    \"\\n\",\n",
    "    \"LLM Prompt Tokens: \",\n",
    "    token_counter.prompt_llm_token_count,\n",
    "    \"\\n\",\n",
    "    \"LLM Completion Tokens: \",\n",
    "    token_counter.completion_llm_token_count,\n",
    "    \"\\n\",\n",
    "    \"Total LLM Token Count: \",\n",
    "    token_counter.total_llm_token_count,\n",
    "    \"\\n\",\n",
    ")"
   ]
  },
  {
   "cell_type": "code",
   "execution_count": null,
   "id": "191209c4-3e0f-4002-8741-0c2448782123",
   "metadata": {},
   "outputs": [],
   "source": []
  }
 ],
 "metadata": {
  "kernelspec": {
   "display_name": "Python 3 (ipykernel)",
   "language": "python",
   "name": "python3"
  },
  "language_info": {
   "codemirror_mode": {
    "name": "ipython",
    "version": 3
   },
   "file_extension": ".py",
   "mimetype": "text/x-python",
   "name": "python",
   "nbconvert_exporter": "python",
   "pygments_lexer": "ipython3",
   "version": "3.11.7"
  }
 },
 "nbformat": 4,
 "nbformat_minor": 5
}
