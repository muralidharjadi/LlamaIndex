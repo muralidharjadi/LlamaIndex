{
 "cells": [
  {
   "cell_type": "code",
   "execution_count": 3,
   "id": "e3583407-c231-4888-97eb-e5ed77ab247d",
   "metadata": {},
   "outputs": [],
   "source": [
    "from llama_index.core import SimpleDirectoryReader\n",
    "\n",
    "documents = SimpleDirectoryReader(\"./test_data\").load_data()"
   ]
  },
  {
   "cell_type": "code",
   "execution_count": 5,
   "id": "92cda6f0-f29b-463e-a5ad-41f30e1609c2",
   "metadata": {},
   "outputs": [
    {
     "data": {
      "text/plain": [
       "9"
      ]
     },
     "execution_count": 5,
     "metadata": {},
     "output_type": "execute_result"
    }
   ],
   "source": [
    "len(documents)"
   ]
  },
  {
   "cell_type": "code",
   "execution_count": 17,
   "id": "79e070a7-0f66-48cb-bea0-2d03a831405b",
   "metadata": {},
   "outputs": [
    {
     "data": {
      "text/plain": [
       "{'page_label': '2',\n",
       " 'file_name': 'Indian_Economy_Overview.pdf',\n",
       " 'file_path': 'C:\\\\Users\\\\intel\\\\Projects\\\\LLM\\\\LlamaIndex\\\\test_data\\\\Indian_Economy_Overview.pdf',\n",
       " 'file_type': 'application/pdf',\n",
       " 'file_size': 7918,\n",
       " 'creation_date': '2024-07-03',\n",
       " 'last_modified_date': '2024-07-03'}"
      ]
     },
     "execution_count": 17,
     "metadata": {},
     "output_type": "execute_result"
    }
   ],
   "source": [
    "documents[1].metadata"
   ]
  },
  {
   "cell_type": "code",
   "execution_count": 18,
   "id": "c1dca2b5-1a10-45b4-b4b9-d5e727d9edd6",
   "metadata": {},
   "outputs": [],
   "source": [
    "from llama_index.core import Document\n",
    "\n",
    "doc = Document(text=\"Over view of Indian Economy\")"
   ]
  },
  {
   "cell_type": "code",
   "execution_count": 22,
   "id": "d8b7a6a1-d71b-418c-87e2-e1a77c2e0ab3",
   "metadata": {},
   "outputs": [
    {
     "data": {
      "text/plain": [
       "'Over view of Indian Economy'"
      ]
     },
     "execution_count": 22,
     "metadata": {},
     "output_type": "execute_result"
    }
   ],
   "source": [
    "doc.text"
   ]
  },
  {
   "cell_type": "code",
   "execution_count": 23,
   "id": "6a47cd35-9752-490d-8c56-9e0ff88eda68",
   "metadata": {},
   "outputs": [],
   "source": [
    "from llama_index.core.node_parser import SentenceSplitter\n",
    "\n",
    "text_splitter = SentenceSplitter(chunk_size=512, chunk_overlap=10)"
   ]
  },
  {
   "cell_type": "code",
   "execution_count": 24,
   "id": "9a5b2cbb-2fee-4630-b6a5-f613d53d5c8d",
   "metadata": {},
   "outputs": [],
   "source": [
    "document = Document(\n",
    "    text=\"What is Capital of Inidia\",\n",
    "    metadata={\"filename\": \"testfile\", \"category\": \"economy\"},\n",
    ")"
   ]
  },
  {
   "cell_type": "code",
   "execution_count": 25,
   "id": "2b4d9459-3bd9-4aca-99f4-6c8b1ca44e8b",
   "metadata": {},
   "outputs": [
    {
     "data": {
      "text/plain": [
       "Document(id_='1728d8d1-ef35-4275-b277-a464e749fb03', embedding=None, metadata={'filename': 'testfile', 'category': 'economy'}, excluded_embed_metadata_keys=[], excluded_llm_metadata_keys=[], relationships={}, text='What is Capital of Inidia', mimetype='text/plain', start_char_idx=None, end_char_idx=None, text_template='{metadata_str}\\n\\n{content}', metadata_template='{key}: {value}', metadata_seperator='\\n')"
      ]
     },
     "execution_count": 25,
     "metadata": {},
     "output_type": "execute_result"
    }
   ],
   "source": [
    "document"
   ]
  },
  {
   "cell_type": "code",
   "execution_count": 26,
   "id": "f8881a0d-ce78-465a-9753-c655b11f95df",
   "metadata": {},
   "outputs": [
    {
     "data": {
      "text/plain": [
       "{'filename': 'testfile', 'category': 'economy'}"
      ]
     },
     "execution_count": 26,
     "metadata": {},
     "output_type": "execute_result"
    }
   ],
   "source": [
    "document.metadata"
   ]
  },
  {
   "cell_type": "code",
   "execution_count": 27,
   "id": "1d80392c-a89a-4fad-b7b2-02da10378e4b",
   "metadata": {},
   "outputs": [
    {
     "data": {
      "text/plain": [
       "'What is Capital of Inidia'"
      ]
     },
     "execution_count": 27,
     "metadata": {},
     "output_type": "execute_result"
    }
   ],
   "source": [
    "document.text"
   ]
  },
  {
   "cell_type": "code",
   "execution_count": 39,
   "id": "9feb2fdf-3f1f-41a0-a194-4c1131e8480b",
   "metadata": {},
   "outputs": [],
   "source": [
    "from llama_index.core import SimpleDirectoryReader\n",
    "\n",
    "filename_fn = lambda filename: {\"file_name\": \"Indian Economy\"}\n",
    "\n",
    "# automatically sets the metadata of each document according to filename_fn\n",
    "documents = SimpleDirectoryReader(\n",
    "    \"./test_data\", file_metadata=filename_fn\n",
    ").load_data()"
   ]
  },
  {
   "cell_type": "code",
   "execution_count": 40,
   "id": "0e99424d-0b2a-4b3f-8f4d-ae2195fded31",
   "metadata": {},
   "outputs": [
    {
     "data": {
      "text/plain": [
       "Document(id_='738a0590-e57c-4acd-9ef4-aede8e6b178c', embedding=None, metadata={'page_label': '2', 'file_name': 'Indian Economy'}, excluded_embed_metadata_keys=['file_name', 'file_type', 'file_size', 'creation_date', 'last_modified_date', 'last_accessed_date'], excluded_llm_metadata_keys=['file_name', 'file_type', 'file_size', 'creation_date', 'last_modified_date', 'last_accessed_date'], relationships={}, text=\"Indian Economy: An Overview\\nIntroduction\\nIndia, one of the world's fastest-growing economies, has shown remarkable resilience and growth\\nover the past few decades. With a population of over 1.4 billion people, it is the world's second-most\\npopulous country and boasts a diverse and complex economy that encompasses agriculture,\\nmanufacturing, and services sectors. This document provides an overview of the Indian economy,\\ntracing its historical background, economic reforms, key sectors, current scenario, challenges, and\\nfuture prospects.\\nPage 2\", mimetype='text/plain', start_char_idx=None, end_char_idx=None, text_template='{metadata_str}\\n\\n{content}', metadata_template='{key}: {value}', metadata_seperator='\\n')"
      ]
     },
     "execution_count": 40,
     "metadata": {},
     "output_type": "execute_result"
    }
   ],
   "source": [
    "documents[1]"
   ]
  },
  {
   "cell_type": "code",
   "execution_count": 43,
   "id": "1d1446b7-fbb2-45fe-9829-799d947833ca",
   "metadata": {},
   "outputs": [
    {
     "data": {
      "text/plain": [
       "{'page_label': '1', 'file_name': 'Indian Economy'}"
      ]
     },
     "execution_count": 43,
     "metadata": {},
     "output_type": "execute_result"
    }
   ],
   "source": [
    "documents[0].metadata"
   ]
  },
  {
   "cell_type": "code",
   "execution_count": 42,
   "id": "7096bdc2-a522-4295-a8b8-64bc80a0324a",
   "metadata": {},
   "outputs": [
    {
     "data": {
      "text/plain": [
       "\"Indian Economy: An Overview\\nIntroduction\\nIndia, one of the world's fastest-growing economies, has shown remarkable resilience and growth\\nover the past few decades. With a population of over 1.4 billion people, it is the world's second-most\\npopulous country and boasts a diverse and complex economy that encompasses agriculture,\\nmanufacturing, and services sectors. This document provides an overview of the Indian economy,\\ntracing its historical background, economic reforms, key sectors, current scenario, challenges, and\\nfuture prospects.\\nPage 2\""
      ]
     },
     "execution_count": 42,
     "metadata": {},
     "output_type": "execute_result"
    }
   ],
   "source": [
    "documents[1].text"
   ]
  },
  {
   "cell_type": "code",
   "execution_count": null,
   "id": "51917406-22c3-4687-a492-98977e3eaaec",
   "metadata": {},
   "outputs": [],
   "source": []
  }
 ],
 "metadata": {
  "kernelspec": {
   "display_name": "Python 3 (ipykernel)",
   "language": "python",
   "name": "python3"
  },
  "language_info": {
   "codemirror_mode": {
    "name": "ipython",
    "version": 3
   },
   "file_extension": ".py",
   "mimetype": "text/x-python",
   "name": "python",
   "nbconvert_exporter": "python",
   "pygments_lexer": "ipython3",
   "version": "3.11.7"
  }
 },
 "nbformat": 4,
 "nbformat_minor": 5
}
