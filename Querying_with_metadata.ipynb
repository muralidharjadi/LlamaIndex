{
 "cells": [
  {
   "cell_type": "code",
   "execution_count": 2,
   "id": "26fb6b47-bd6d-4620-b5bf-565c23e7011e",
   "metadata": {},
   "outputs": [],
   "source": [
    "# %pip install llama-index-llms-openai\n",
    "# %pip install llama-index-extractors-entity"
   ]
  },
  {
   "cell_type": "code",
   "execution_count": 4,
   "id": "e7a97500-6b43-4eab-9d14-fd8d78f31436",
   "metadata": {},
   "outputs": [],
   "source": [
    "#!pip install llama-index"
   ]
  },
  {
   "cell_type": "code",
   "execution_count": 5,
   "id": "3bb576c4-0a0a-4a3e-b74c-f0707e33982f",
   "metadata": {},
   "outputs": [],
   "source": [
    "import nest_asyncio\n",
    "\n",
    "nest_asyncio.apply()\n",
    "\n",
    "import os\n",
    "import openai\n",
    "\n",
    "os.environ[\"OPENAI_API_KEY\"] = \"sk-\""
   ]
  },
  {
   "cell_type": "code",
   "execution_count": 6,
   "id": "53660c61-5162-4bc6-a78a-b51a1b2d90ec",
   "metadata": {},
   "outputs": [],
   "source": [
    "from llama_index.llms.openai import OpenAI\n",
    "from llama_index.core.schema import MetadataMode"
   ]
  },
  {
   "cell_type": "code",
   "execution_count": 7,
   "id": "3fa6fd53-333a-4f53-a899-e21e1e104a75",
   "metadata": {},
   "outputs": [],
   "source": [
    "llm = OpenAI(temperature=0.1, model=\"gpt-3.5-turbo\", max_tokens=512)"
   ]
  },
  {
   "cell_type": "code",
   "execution_count": 9,
   "id": "e92f5852-0b2e-4e62-858a-1c6e3bf41149",
   "metadata": {},
   "outputs": [],
   "source": [
    "from llama_index.core.extractors import (\n",
    "    SummaryExtractor,\n",
    "    QuestionsAnsweredExtractor,\n",
    "    TitleExtractor,\n",
    "    KeywordExtractor,\n",
    "    BaseExtractor,\n",
    ")\n",
    "from llama_index.extractors.entity import EntityExtractor\n",
    "from llama_index.core.node_parser import TokenTextSplitter"
   ]
  },
  {
   "cell_type": "code",
   "execution_count": 10,
   "id": "aba52d4c-7cb0-48d9-ad50-499b828e2930",
   "metadata": {},
   "outputs": [],
   "source": [
    "text_splitter = TokenTextSplitter(\n",
    "    separator=\" \", chunk_size=512, chunk_overlap=12\n",
    ")"
   ]
  },
  {
   "cell_type": "code",
   "execution_count": 11,
   "id": "8337a023-c6ef-4f23-9890-b8e44c360df3",
   "metadata": {},
   "outputs": [],
   "source": [
    "class CustomExtractor(BaseExtractor):\n",
    "    def extract(self, nodes):\n",
    "        metadata_list = [\n",
    "            {\n",
    "                \"custom\": (\n",
    "                    node.metadata[\"document_title\"]\n",
    "                    + \"\\n\"\n",
    "                    + node.metadata[\"excerpt_keywords\"]\n",
    "                )\n",
    "            }\n",
    "            for node in nodes\n",
    "        ]\n",
    "        return metadata_list\n"
   ]
  },
  {
   "cell_type": "code",
   "execution_count": 13,
   "id": "df8074c2-2aa6-42a8-a121-d40a16476be7",
   "metadata": {},
   "outputs": [],
   "source": [
    "extractors = [\n",
    "    TitleExtractor(nodes=5, llm=llm),\n",
    "    QuestionsAnsweredExtractor(questions=3, llm=llm),\n",
    "    # EntityExtractor(prediction_threshold=0.5),\n",
    "    # SummaryExtractor(summaries=[\"prev\", \"self\"], llm=llm),\n",
    "    # KeywordExtractor(keywords=10, llm=llm),\n",
    "    # CustomExtractor()\n",
    "]\n",
    "transformations = [text_splitter] + extractors"
   ]
  },
  {
   "cell_type": "code",
   "execution_count": 14,
   "id": "116957e2-ca1a-4f90-983b-c55bc579a01e",
   "metadata": {},
   "outputs": [],
   "source": [
    "from llama_index.core import SimpleDirectoryReader"
   ]
  },
  {
   "cell_type": "code",
   "execution_count": 17,
   "id": "f969c744-7de2-4edd-a408-112572177774",
   "metadata": {},
   "outputs": [],
   "source": [
    "uber_docs = SimpleDirectoryReader(input_files=[\"data/uber_2021.pdf\"]).load_data()\n",
    "uber_front_pages = uber_docs[0:3]\n",
    "uber_content = uber_docs[63:69]\n",
    "uber_docs = uber_front_pages + uber_content"
   ]
  },
  {
   "cell_type": "code",
   "execution_count": 18,
   "id": "de98ddef-4d43-4447-96a2-a883432ae35d",
   "metadata": {},
   "outputs": [
    {
     "data": {
      "text/plain": [
       "[Document(id_='835a8b73-38f1-454a-8c7a-ccd81aa0ed96', embedding=None, metadata={'page_label': '1', 'file_name': 'uber_2021.pdf', 'file_path': 'data\\\\uber_2021.pdf', 'file_type': 'application/pdf', 'file_size': 1880483, 'creation_date': '2024-06-29', 'last_modified_date': '2024-06-29'}, excluded_embed_metadata_keys=['file_name', 'file_type', 'file_size', 'creation_date', 'last_modified_date', 'last_accessed_date'], excluded_llm_metadata_keys=['file_name', 'file_type', 'file_size', 'creation_date', 'last_modified_date', 'last_accessed_date'], relationships={}, text='UNITED STATESSECURITIES AND EXCHANGE COMMISSION\\nWashington, D.C. 20549\\n____________________________________________ \\nFORM\\n 10-K____________________________________________ \\n(Mark One)\\n☒\\n ANNUAL REPORT PURSUANT TO SECTION 13 OR 15(d) OF THE SECURITIES EXCHANGE ACT OF 1934For the fiscal year ended\\n December 31, 2021OR\\n☐\\n TRANSITION REPORT PURSUANT TO SECTION 13 OR 15(d) OF THE SECURITIES EXCHANGE ACT OF 1934For the transition period from_____ to _____            \\nCommission File Number: 001-38902\\n____________________________________________ \\nUBER TECHNOLOGIES, INC.\\n(Exact name of registrant as specif\\nied in its charter)____________________________________________ \\nDelaware\\n45-2647441 (State or other jurisdiction of inco\\nrporation or organization)(I.R.S. Employer Identification No.) 1515 3rd Street\\nSan Francisco, California 94158\\n(Address of principal executive offic\\nes, including zip code)(415) 612-8582\\n(Registrant’s telephone number, including area code)\\n ____________________________________________\\nSecurities registered pursuant to Sect\\nion 12(b) of the Act:Title of each class\\nTrading Symbol(s) Name of each exchange on which registered Common Stock, par value $0.00001 per share\\nUBER New York Stock Exchange Securities register\\ned pursuant to Section 12(g) of the Act: NoneIndicate by check mark whe\\nther the registrant is a well-known seasoned issuer, as defined in Rule 405 of the Securities Act. Yes  ☒  No ☐Indicate by check mark whe\\nther the registrant is not required to file reports pursuant to Section 13 or Section 15(d) of the Act. Yes  ☐  No  ☒Indicate by\\n check mark whether the registrant (1) has filed all reports required to be filed by Section 13 or 15(d) of the Securities Exchange Act of 1934 during thepreceding\\n 12 months (or for such shorter period that the registrant was required to file such reports), and (2) has been subject to such filing requirements for thepast 90 days. Yes  \\n☒  No ☐Indicate\\n by check mark whether the registrant has submitted electronically every Interactive Data File required to be submitted pursuant to Rule 405 of RegulationS-T (§232.405 of this chapter) during \\nthe preceding 12 months (or for such shorter period that the registrant was required to submit such files). Yes  ☒  No ☐Indicate\\n by check mark whether the registrant is a large accelerated filer, an accelerated filer, a non-accelerated filer, a smaller reporting company, or an emerginggrowth\\n company. See the definitions of “large accelerated filer,” “accelerated filer,” “smaller reporting company,” and “emerging growth company” in Rule 12b-2of the Exchange Act.\\n', mimetype='text/plain', start_char_idx=None, end_char_idx=None, text_template='{metadata_str}\\n\\n{content}', metadata_template='{key}: {value}', metadata_seperator='\\n'),\n",
       " Document(id_='22ed8bfb-f122-4175-b135-4b9001165e50', embedding=None, metadata={'page_label': '2', 'file_name': 'uber_2021.pdf', 'file_path': 'data\\\\uber_2021.pdf', 'file_type': 'application/pdf', 'file_size': 1880483, 'creation_date': '2024-06-29', 'last_modified_date': '2024-06-29'}, excluded_embed_metadata_keys=['file_name', 'file_type', 'file_size', 'creation_date', 'last_modified_date', 'last_accessed_date'], excluded_llm_metadata_keys=['file_name', 'file_type', 'file_size', 'creation_date', 'last_modified_date', 'last_accessed_date'], relationships={}, text=\"Large accelerated filer☒ Accelerated filer ☐ Non-accelerated filer\\n☐ Smaller reporting company ☐ Emerging growth company\\n☐ If\\n an emerging growth company, indicate by check mark if the registrant has elected not to use the extended transition period for complying with any new orrevised financial a\\nccounting standards provided pursuant to Section 13(a) of the Exchange Act.☐ Indicate\\n by check mark whether the registrant has filed a report on and attestation to its management’s assessment of the effectiveness of its internal controlover financial reporting under\\n Section 404(b) of the Sarbanes-Oxley Act (15 U.S.C. 7262(b)) by the registered public accounting firm that prepared or issuedits audit report.\\n☒ Indicate by check mark whe\\nther the registrant is a shell company (as defined in Rule 12b-2 of the Exchange Act). Yes ☐  No  ☒The\\n aggregate market value of the voting and non-voting common equity held by non-affiliates of the registrant as of June 30, 2021, the last business day of theregistrant's\\n most recently completed second fiscal quarter, was approximately $90.5 billion based upon the closing price reported for such date on the New YorkStock Exchange.\\nThe number of shares of the r\\negistrant's common stock outstanding as of February 22, 2022 was 1,954,464,088.DOCUMENTS INCORPORATED BY\\n REFERENCEPortions of the registrant\\n’s Definitive Proxy Statement relating to the Annual Meeting of Stockholders are incorporated by reference into Part III of this AnnualReport on Form 10-K where indicated. Such Def\\ninitive Proxy Statement will be filed with the Securities and Exchange Commission within 120 days after the endof the registrant’s f\\niscal year ended December 31, 2021.\", mimetype='text/plain', start_char_idx=None, end_char_idx=None, text_template='{metadata_str}\\n\\n{content}', metadata_template='{key}: {value}', metadata_seperator='\\n'),\n",
       " Document(id_='699332d8-6fc3-4c19-b3ba-a7073d297520', embedding=None, metadata={'page_label': '3', 'file_name': 'uber_2021.pdf', 'file_path': 'data\\\\uber_2021.pdf', 'file_type': 'application/pdf', 'file_size': 1880483, 'creation_date': '2024-06-29', 'last_modified_date': '2024-06-29'}, excluded_embed_metadata_keys=['file_name', 'file_type', 'file_size', 'creation_date', 'last_modified_date', 'last_accessed_date'], excluded_llm_metadata_keys=['file_name', 'file_type', 'file_size', 'creation_date', 'last_modified_date', 'last_accessed_date'], relationships={}, text='UBER TECHNOLOGIES, INC.TABLE OF CONTENTS\\nPages\\nSpecial Note Regarding Forward-Looking Sta\\ntements2 PART I\\nItem 1.\\nBusiness 4 Item 1A.\\nRisk Factors 11 Item 1B.\\nUnresolved Staff Comments 46 Item 2.\\nProperties 46 Item 3.\\nLegal Proceedings 46 Item 4.\\nMine Safety Disclosures 47 PART II\\nItem 5.\\nMarket for Registrant’s Com mon Equity, Related Stockholder Matters and Issuer Purchases of Equity Securities47 Item 6.\\n[Reserved] 48 Item 7.\\nManagement’s Discussion and Analysis o f Financial Condition and Results of Operations48 Item 7A.\\nQuantitative and Qualita tive Disclosures About Market Risk69 Item 8.\\nFinancial Statements and Suppl ementary Data70 Item 9.\\nChanges in and Disagreements with Accoun tants on Accounting and Financial Disclosure146 Item 9A.\\nControls and Procedures 147 Item 9B.\\nOther Information 147 Item 9C.\\nDisclosure Regarding Foreign Jurisdi ctions that Prevent Inspections147 PART III\\nItem 10.\\nDirectors, Executive Offi cers and Corporate Governance147 Item 11.\\nExecutive Compensation 147 Item 12.\\nSecurity Ownership of Certain Benef icial Owners and Management and Related Stockholder Matters148 Item 13.\\nCertain Relationships and Rela ted Transactions, and Director Independence148 Item 14.\\nPrincipal Accounting Fees and Servi ces148 PART IV\\nItem 15.\\nExhibits, Financial Statem ent Schedules148 Item 16.\\nForm 10-K Summary 148 Exhibit Index\\n149 Signatures\\n152 1\\n', mimetype='text/plain', start_char_idx=None, end_char_idx=None, text_template='{metadata_str}\\n\\n{content}', metadata_template='{key}: {value}', metadata_seperator='\\n'),\n",
       " Document(id_='7eb6b9b9-1cbb-4c36-8e3e-7758b39bb93c', embedding=None, metadata={'page_label': '64', 'file_name': 'uber_2021.pdf', 'file_path': 'data\\\\uber_2021.pdf', 'file_type': 'application/pdf', 'file_size': 1880483, 'creation_date': '2024-06-29', 'last_modified_date': '2024-06-29'}, excluded_embed_metadata_keys=['file_name', 'file_type', 'file_size', 'creation_date', 'last_modified_date', 'last_accessed_date'], excluded_llm_metadata_keys=['file_name', 'file_type', 'file_size', 'creation_date', 'last_modified_date', 'last_accessed_date'], relationships={}, text='impairments/loss on sale of assets, (xi) acquisition, financing and divestitures related expenses, (xii) restructuring and related charges and (xiii) other items notindicative of our ongoing oper\\nating performance, including COVID-19 response initiatives related payments for financial assistance to Drivers personally impactedby\\n COVID-19, the cost of personal protective equipment distributed to Drivers, Driver reimbursement for their cost of purchasing personal protective equipment,the costs related to f\\nree rides and food deliveries to healthcare workers, seniors, and others in need as well as charitable donations.We have included Adjusted EBITDA in this Annual Repo\\nrt on Form 10-K because it is a key measure used by our management team to evaluate our operatingperformance,\\n generate future operating plans, and make strategic decisions, including those relating to operating expenses. Accordingly, we believe that AdjustedEBITDA\\n provides useful information to investors and others in understanding and evaluating our operating results in the same manner as our management teamand\\n board of directors. In addition, it provides a useful measure for period-to-period comparisons of our business, as it removes the effect of certain non-cashexpenses and certain variable charges. To\\n help our board, management and investors assess the impact of COVID-19 on our results of operations, we are excludingthe\\n impacts  of  COVID-19  response  initiatives  related  payments  for  financial  assistance  to  Drivers  personally  impacted  by  COVID-19,  the  cost  of  personalprotective\\n equipment distributed to Drivers, Driver reimbursement for their cost of purchasing personal protective equipment, the costs related to free rides andfood\\n deliveries to healthcare workers, seniors, and others in need as well as charitable donations from Adjusted EBITDA. Our board and management find theexclusion\\n of the impact of these COVID-19 response initiatives from Adjusted EBITDA to be useful because it allows us and our investors to assess the impact ofthese response initiat\\nives on our results of operations.COVID-19 Response Initiatives\\nTo\\n support  those  whose  earning  opportunities  have  been  depressed  as  a  result  of  COVID-19, as  well  as  communities  hit  hard  by  the  pandemic,  we  haveannounced and implemented several initiatives, including, in particular, payment\\ns for financial assistance to Drivers personally impacted by COVID-19, the cost ofpersonal\\n protective equipment distributed to Drivers, Driver reimbursement for their cost of purchasing personal protective equipment, the costs related to freerides\\n and  food  deliveries  to  healthcare  workers,  seniors,  and  others  in  need  as  well  as  charitable  donations.  The  payments  for  financial  assistance  to  Driverspersonally\\n impacted by COVID-19 and Driver reimbursement for their cost of purchasing personal protective equipment are recorded as a reduction to revenue.The cost of personal protec\\ntive equipment distributed to Drivers, the costs related to free rides and food deliveries to healthcare workers, seniors, and others in needas well as charitable don\\nations are recorded as an expense in our costs and expenses.Limitations of Non-GAAP Financial Measures and Adjust\\ned EBITDA ReconciliationAdjusted\\n EBITDA has limitations as a financial measure, should be considered as supplemental in nature, and is not meant as a substitute for the relatedfinancial informa\\ntion prepared in accordance with GAAP. These limitations include the following:•\\nAdjusted EBITDA excludes certain recurring, non-cash charges, such as depreciation of property and equipment and amortization of intangible assets,and\\n although these are non-cash charges, the assets being depreciated and amortized may have to be replaced in the future, and Adjusted EBITDA doesnot reflect all cash capital expe\\nnditure requirements for such replacements or for new capital expenditure requirements;•\\nAdjusted EBITDA excludes certain restructuring and related charges, part of which may be settled in cash;•\\nAdjusted EBITDA excludes stock-based compensation expense, which has been, and will continue to be for the foreseeable future, a significant recurringexpense in our business and an impor\\ntant part of our compensation strategy;•\\nAdjusted EBITDA excludes other items not indicative of our ongoing operating performance, including COVID-19 response initiatives related paymentsfor\\n financial  assistance  to  Drivers  personally  impacted  by  COVID-19,  the  cost  of  personal  protective  equipment  distributed  to  Drivers,  Driverreimbursement for their cost of purchasing personal protective equipment, the costs related to free rides and food deliveries to healthcare workers, senior\\ns,and others in need as well as ch\\naritable donations;•\\nAdjusted EBITDA does not reflect period to period changes in taxes, income tax expense or the cash necessary to pay income taxes;•\\nAdjusted EBITDA does not reflect the components of other income (expense), net, which primarily includes: interest income; foreign currency exchangegains\\n (losses), net; gain (loss) on business divestitures, net; and unrealized gain (loss) on debt and equity securities, net; and impairment  of debt andequity securities; and\\n•\\nAdjusted EBITDA excludes certain legal, tax, and regulatory reserve changes and settlements that may reduce cash available to us.62\\n', mimetype='text/plain', start_char_idx=None, end_char_idx=None, text_template='{metadata_str}\\n\\n{content}', metadata_template='{key}: {value}', metadata_seperator='\\n'),\n",
       " Document(id_='e28f9738-2e90-42f4-935d-c054dee82b3b', embedding=None, metadata={'page_label': '65', 'file_name': 'uber_2021.pdf', 'file_path': 'data\\\\uber_2021.pdf', 'file_type': 'application/pdf', 'file_size': 1880483, 'creation_date': '2024-06-29', 'last_modified_date': '2024-06-29'}, excluded_embed_metadata_keys=['file_name', 'file_type', 'file_size', 'creation_date', 'last_modified_date', 'last_accessed_date'], excluded_llm_metadata_keys=['file_name', 'file_type', 'file_size', 'creation_date', 'last_modified_date', 'last_accessed_date'], relationships={}, text=' The following table presents a reconciliation of net loss attributable to Uber Technologies, Inc., the most directly comparable GAAP financial measure, toAdjusted EBITDA for each of the periods ind\\nicated:Year Ended December 31,\\n(In millions)\\n2020 2021 Adjusted EBITDA reconciliation:\\nNet loss attributable to Ube\\nr Technologies, Inc.$ (6,768) $ (496) Add (deduct):\\nNet loss attributable to non\\n-controlling interests, net of tax(20) (74) Provision for (benefit fro\\nm) income taxes(192) (492) Loss from equity method invest\\nments34 37 Interest expense\\n458 483 Other (income) expense, net\\n1,625 (3,292) Depreciation and amortization\\n575 902 Stock-based compensation expense\\n827 1,168 Legal, tax, and regulatory \\nreserve changes and settlements(35) 526 Goodwill and asset impairmen\\nts/loss on sale of assets317 157 Acquisition, financing and dives\\ntitures related expenses86 102 Accelerated lease \\ncosts related to cease-use of ROU assets102 5 COVID-19 response initiatives\\n106 54 Gain on lease arrangemen\\nt, net(5) — Restructuring and relat\\ned charges, net362 — Legacy auto insurance tr\\nansfer — 103 Mass arbitration fees\\n— 43 Adjusted EBITDA\\n$ (2,528) $ (774)  For further information, refer to Note 1 – Description of Business and \\nSummary of Significant Accounting Policies in the notes to the consolidated financialstatements included in Pa\\nrt II, Item 8, “Financial Statements and Supplementary Data,” of this Annual Report on Form 10-K.Constant Currency\\nWe\\n compare the percent change in our current period results from the corresponding prior period using constant currency disclosure. We present constantcurrency\\n growth  rate  information  to  provide  a  framework  for  assessing  how  our  underlying  revenue  performed  excluding  the  effect  of  foreign  currency  ratefluctuations.\\n We calculate constant currency by translating our current period financial results using the corresponding prior period’s monthly exchange rates forour transacted curren\\ncies other than the U.S. dollar.Liquidity and Capital Resources\\nYear Ended December 31,\\n(In millions)\\n2020 2021 Net cash used in operating ac\\ntivities$ (2,745) $ (445) Net cash used in investing act\\nivities(2,869) (1,201) Net cash provided by financing a\\nctivities1,379 1,780 Operating Activities\\nNet\\n cash used in operating activities was $445 million for the year ended December 31, 2021, primarily consisting of $570 million of net loss, adjusted forcertain\\n non-cash items, which primarily included $1.7 billion in gain on business divestitures, $1.2 billion of stock-based compensation expense, $1.1 billion ofunrealized\\n gain on debt and equity securities, $413 million of gain from sale of investments, depreciation and amortization expense of $902 million, as well as a$477 million decrease\\n in cash consumed by working capital. The decrease in cash consumed by working capital and other operating activities was primarily drivenby\\n an increase in accrued expenses and other liabilities, an increase in our insurance reserves, partially offset by higher accounts receivable and prepaid expensesand\\n lower operating lease liabilities. Net cash used in operating activities also reflects a $1.0 billion cash inflow related to a legacy auto insurance transfer. Foradditional\\n information on the legacy auto insurance transfer, see Note 1 – Description of Business and Summary of Significant Accounting Policies included inPart II, Item 8, “Financi\\nal Statements and Supplementary Data,” of this Annual Report on Form 10-K.(1)(1\\n)63\\n', mimetype='text/plain', start_char_idx=None, end_char_idx=None, text_template='{metadata_str}\\n\\n{content}', metadata_template='{key}: {value}', metadata_seperator='\\n'),\n",
       " Document(id_='a5b4b0d1-28ed-4e43-a6ee-3e0ef7f00669', embedding=None, metadata={'page_label': '66', 'file_name': 'uber_2021.pdf', 'file_path': 'data\\\\uber_2021.pdf', 'file_type': 'application/pdf', 'file_size': 1880483, 'creation_date': '2024-06-29', 'last_modified_date': '2024-06-29'}, excluded_embed_metadata_keys=['file_name', 'file_type', 'file_size', 'creation_date', 'last_modified_date', 'last_accessed_date'], excluded_llm_metadata_keys=['file_name', 'file_type', 'file_size', 'creation_date', 'last_modified_date', 'last_accessed_date'], relationships={}, text=\"Net cash used in operating activities was $2.7 billion for the year ended December 31, 2020 , primarily consisting of $6.8 billion of net loss, adjusted forcertain\\n non-cash  items,  which  primarily  included  $1.7  billion  in  impairment  of  non-marketable  equity  securities,  $827  million  of  stock-based  compensationexpense,\\n depreciation and amortization expense of $575 million, $404 million in impairment of goodwill, long-lived assets and other assets, as well as a $393million\\n decrease in cash consumed by working capital. The decrease in cash consumed by working capital and other operating activities was primarily driven by adecrease in our operating lease right-of-use assets, prepaid expense\\ns and other assets and increase in accrued expenses and other liabilities, partially offset by loweraccounts payable and \\noperating lease liabilities.Investing Activities\\nNet\\n cash used in investing activities was $1.2 billion for the year ended December 31, 2021, primarily consisting of $2.3 billion in acquisition of businesses,net of cash acquired,\\n $1.1 billion in purchases of marketable securities, $982 million in purchases of non-marketable equity securities, $297 million in purchases ofnotes\\n receivable, and $298 million in purchases of property and equipment, partially offset by proceeds from maturities and sales of marketable securities of $2.3billion, proceeds from th\\ne sale of equity method investments of $1.0 billion and proceeds from sale of non-marketable equity securities of $500 million.Net\\n cash used in investing activities was $2.9 billion for the year ended December 31, 2020, primarily consisting of $2.1 billion in purchases of marketablesecurities, $1.5 billion in acquisition of busine\\nsses, net of cash acquired and $616 million in purchases of property and equipment, partially offset by proceeds frommaturities and sales o\\nf marketable securities of $1.4 billion.Financing Activities\\nNet\\n cash  provided  by  financing  activities  was  $1.8  billion  for  the  year  ended  December  31,  2021,  primarily  consisting  of  $1.5  billion  of  proceeds  fromissuance\\n of notes, net of issuance cost, $675 million of proceeds from the issuance and sale of subsidiary preferred stock units, partially offset by $307 million ofprincipal\\n repayment on the non-interest bearing unsecured convertible notes related to the acquisition of Careem (“Careem Notes”) and $226 million principalpayments on finance leas\\nes.Net\\n cash  provided  by  financing  activities  was  $1.4  billion  for  the  year  ended  December  31,  2020,  primarily  consisting  of  $2.6  billion  of  proceeds  fromissuance of\\n notes, net of issuance costs and $247 million of proceeds from issuance of subsidiary preferred stock units, partially offset by $891 million of principalrepayment on Careem Notes and $527 \\nmillion of principal repayment on term loan and notes.Other Information\\nAs\\n of December 31, 2021, $2.2 billion of our $4.3 billion in cash and cash equivalents was held by our foreign subsidiaries. Cash held outside the UnitedStates\\n may be repatriated, subject to certain limitations, and would be available to be used to fund our domestic operations. Repatriation of funds may result inimmaterial\\n tax liabilities. We believe that our existing cash balance in the United States is sufficient to fund our working capital needs in the United States. We arein compliance with our debt and line of credit covenants as of December 31, 202\\n1, including by meeting our reporting obligations. We also believe that our sourcesof\\n funding and our available line of credit will be sufficient to satisfy our currently anticipated cash requirements including capital expenditures, working capitalrequirements,\\n collateral  requirements,  potential  acquisitions,  potential  prepayments  of  contested  indirect  tax  assessments  (“pay-to-play”),  and  other  liquidityrequirements through at\\n least the next 12 months. We intend to continue to evaluate and may, in certain circumstances, take preemptive action to preserve liquidityduring\\n the COVID-19 pandemic. As the circumstances around the COVID-19 pandemic remain uncertain, we continue to actively monitor the pandemic's impactto us worldwide including our financ\\nial position, liquidity, results of operations and cash flows.Purchase Commitments\\nWe\\n have non-cancelable commitments for network and cloud services, background checks, and other items in the ordinary course of business. These amountsare\\n determined based on the non-cancelable quantities or termination amounts to which we are contractually obligated. As of December 31, 2021, we had $394million in non-cancel\\nable commitments, with varying expiration terms through December 15, 2026.Critical Accounting Estimates\\nWe\\n believe that the following accounting policies involve a high degree of judgment and complexity and are critical to understanding and evaluating ourconsolidated\\n financial condition and results of our operations. An accounting policy is considered to be critical if it requires judgment on a significant accountingestimate\\n to be made based on assumptions about matters that are uncertain at the time the estimate is made, and if different estimates that reasonably could havebeen\\n used,  or  changes  in  the  accounting  estimates  that  are  reasonably  likely  to  occur  periodically,  could  materially  impact  the  reported  amounts  of  assets,liabilities, revenu\\ne and expenses, and related disclosures in our audited consolidated financial statements. We have based our estimates on historical experience andon\\n various  other  assumptions  that  are  believed  to  be  reasonable  under  the  circumstances,  the  results  of  which  form  the  basis  for  making  judgments  about  thecarrying\\n values of assets and liabilities that are not readily apparent from other sources. Although we believe that the estimates we use are reasonable, due to theinherent uncertainty invol\\nved in making those estimates, actual results reported in future periods could differ from those estimates.64\\n\", mimetype='text/plain', start_char_idx=None, end_char_idx=None, text_template='{metadata_str}\\n\\n{content}', metadata_template='{key}: {value}', metadata_seperator='\\n'),\n",
       " Document(id_='30cebcd6-edd9-410e-90ce-71c3a3024c0e', embedding=None, metadata={'page_label': '67', 'file_name': 'uber_2021.pdf', 'file_path': 'data\\\\uber_2021.pdf', 'file_type': 'application/pdf', 'file_size': 1880483, 'creation_date': '2024-06-29', 'last_modified_date': '2024-06-29'}, excluded_embed_metadata_keys=['file_name', 'file_type', 'file_size', 'creation_date', 'last_modified_date', 'last_accessed_date'], excluded_llm_metadata_keys=['file_name', 'file_type', 'file_size', 'creation_date', 'last_modified_date', 'last_accessed_date'], relationships={}, text=\"We believe that the following critical accounting policies reflect the more significant judgments, estimates and assumptions used in the preparation of ourconsolidated\\n financial  statements.  For  additional  information,  see  the  disclosure  included  in  Note  1  –  Description  of  Business  and  Summary  of  SignificantAccounting\\n Policies  in  the  notes  to  the  consolidated  financial  statements  included  in  Part  II,  Item  8,  “Financial  Statements  and  Supplementary  Data,”  of  thisAnnual Report on Form 10-K.\\nRevenue Recognition\\nWe\\n derive our revenue principally from service fees paid by Drivers and Merchants for the use of our platform in connection with our Mobility products andDelivery\\n offering provided by Drivers and Merchants to end-users. Our sole performance obligation in the transaction is to connect Drivers and Merchants withend-users\\n to facilitate the completion of a successful ridesharing trip or delivery. Because end-users access our platform for free, except in certain markets, and wehave no performance oblig\\nation to end-users, end-users are not our customers.Judgment\\n is required in evaluating the presentation of revenue on a gross versus net basis based on whether we control the service provided to the end-userand\\n are the principal in the transaction (gross), or we arrange for other parties to provide the service to the end-user and are the agent in the transaction (net). Wehave\\n concluded that we are the agent in most markets as we arrange for Drivers and Merchants to provide the service to the end user in Mobility and Deliverytransactions.\\n The  assessment  of  whether  we  are  considered  the  principal  or  the  agent  in  a  transaction  could  impact  the  accounting  for  certain  payments  andincentives provided to Drive\\nrs and end-users and change the timing and amount of revenue recognized.In\\n certain markets, consumers have the option to pay Drivers cash for trips, and we generally collect our service fee from Drivers for these trips by offsettingagainst\\n any other amounts due to Drivers, including Driver incentives. We have concluded collectability of such amounts is not probable until collected. As such,uncollected service fees for ca\\nsh trips are not recognized as revenue in our consolidated financial statements until collected.Driver Incentives\\nWe\\n offer various incentive programs to Drivers. Judgment is required to determine the appropriate classification of these incentives. Incentives provided tocustomers\\n are recorded as a reduction of revenue if we do not receive a distinct service in exchange or cannot reasonably estimate the fair value of the servicereceived. Incentives offered i\\nn exchange for specific services, such as referral services are recorded as sales and marketing expenses.End-User Discounts and Promotions\\nWe\\n offer discounts and promotions to end-users (that are not customers) to encourage use of our platform. Judgment is required to determine the appropriateclassification\\n of these incentives. End-user discounts and promotions are recorded to sales and marketing expenses with the exception of market-wide promotionswhich are recorded as a r\\neduction of revenue.Business Combinations\\nWe\\n allocate the fair value of purchase consideration to the tangible assets acquired, liabilities assumed, and intangible assets acquired based on their estimatedfair\\n values. The excess of the fair value of purchase consideration over the fair values of these identifiable assets and liabilities is recorded as goodwill. Suchvaluations\\n require management to make significant estimates and assumptions, especially with respect to intangible assets. Significant estimates in valuing certainintangible\\n assets include, but are not limited to, future expected cash flows from acquired advertiser, fleet, merchant, and end-user contracts, acquired technology,and\\n trade names, based on expected future growth rates and margins, attrition rates, future changes in technology and royalty for similar brand licenses, usefullives, and discount rates.\\nManagement's\\n estimates of fair value are based upon assumptions believed to be reasonable, but which are inherently uncertain and unpredictable and, as aresult,\\n actual  results  may  differ  from  estimates.  Allocation  of  purchase  consideration  to  identifiable  assets  and  liabilities  affects  our  amortization  expense,  asacquired\\n finite-lived  intangible  assets  are  amortized  over  the  useful  life,  whereas  any  indefinite  lived  intangible  assets,  including  goodwill,  are  not  amortized.During\\n the measurement period, which may be up to one year from the acquisition date, we may record adjustments to the assets acquired and liabilities assumed,with the corresponding offset \\nto goodwill. Upon the conclusion of the measurement period, any subsequent adjustments are recorded to earnings.Embedded Derivatives\\nDuring\\n 2015, we had issued convertible notes that contain embedded features subject to derivative accounting. These embedded features are composed ofconversion\\n options that have the economic characteristics of a contingent early redemption feature settled in shares of our stock rather than cash, because the totalnumber\\n of shares  of our common  stock delivered  to settle  these embedded  features  will have a fixed value.  These conversion options are  bifurcated  from  theunderlying\\n instrument  and  accounted  for  and  valued  separately  from  the  host  instrument.  Embedded  derivatives  are  recognized  as  derivative  liabilities  on  ourconsolidated\\n balance  sheet.  We  measure  these  instruments  at  their  estimated  fair  value  and  recognize  changes  in  their  estimated  fair  value  in  other  income(expense), net in our consolid\\nated statement of operations and comprehensive loss during the period of change.We\\n value these embedded derivatives as the difference between the estimated value of these convertible notes with and without the Qualified Initial PublicOffering (“QIPO”) conversion option \\n(“QIPO Conversion Option”). The fair value of these convertible65\\n\", mimetype='text/plain', start_char_idx=None, end_char_idx=None, text_template='{metadata_str}\\n\\n{content}', metadata_template='{key}: {value}', metadata_seperator='\\n'),\n",
       " Document(id_='797a7909-1449-4138-a0fe-df69e668dd04', embedding=None, metadata={'page_label': '68', 'file_name': 'uber_2021.pdf', 'file_path': 'data\\\\uber_2021.pdf', 'file_type': 'application/pdf', 'file_size': 1880483, 'creation_date': '2024-06-29', 'last_modified_date': '2024-06-29'}, excluded_embed_metadata_keys=['file_name', 'file_type', 'file_size', 'creation_date', 'last_modified_date', 'last_accessed_date'], excluded_llm_metadata_keys=['file_name', 'file_type', 'file_size', 'creation_date', 'last_modified_date', 'last_accessed_date'], relationships={}, text=\"notes with and without the QIPO Conversion Option is estimated utilizing a discounted cash flow model to discount the expected payoffs at various potential QIPOdates\\n to the valuation date. The key inputs to the valuation model include the probability of a QIPO occurring at various points in time and the discount yield,which\\n was derived by imputing the fair value as equal to the face value on the issuance date of these convertible notes. The discount rate is updated during eachperiod to reflect th\\ne yield of a comparable instrument issued as of the valuation date.Upon\\n closing of the IPO in May 2019, holders of these convertible notes elected to convert all outstanding notes into shares of common stock. For additionalinformation,\\n refer to Note 11 - Stockholders' Equity included in Part II, Item 8, “Financial Statements and Supplementary Data,” of this Annual Report on Form10-K.\\nInvestments—Non-Marketable Equity and Debt Securities\\nWe\\n hold investments in privately held companies in the form of equity securities and debt securities without readily determinable fair values and in which wedo not\\n have a controlling interest or significant influence. Investments in equity securities without readily determinable fair values are initially recorded at cost andare\\n subsequently adjusted to fair value for impairments and price changes from observable transactions in the same or a similar security from the same issuer.Investments\\n in material available-for-sale debt securities are recorded initially at fair value and subsequently remeasured to fair value at each reporting date withthe\\n changes in fair value recognized in other comprehensive income (loss), net of tax. We may elect the fair value option for financial instruments and account forinvestments in debt and equi\\nty securities at fair value with changes reported in net income (loss) from continuing operations.Investments\\n in privately held equity and debt securities are valued using significant unobservable inputs or data in inactive markets. This valuation requiresjudgment\\n due to the absence of market prices and inherent lack of liquidity and are classified as Level 3 in the fair value hierarchy. In determining the estimatedfair\\n value  of  our  investments  in  privately  held  companies,  we  utilize  the  most  recent  data  available  including  observed  transactions  such  as  equity  financingtransactions of the\\n investees and sales of the existing shares of the investees’ securities. In addition, the determination of whether an observed transaction is similarto the equity and debt secur\\nities held by us requires significant management judgment based on the rights and preferences of the securities.We\\n assess our investment portfolio of privately held equity and debt securities quarterly for impairment. The impairment analysis for investments in equitysecurities\\n includes a qualitative analysis of factors including the investee’s financial performance, industry and market conditions, and other relevant factors. If anequity\\n investment  is  considered  to  be  impaired  we  will  establish  a  new  carrying  value  for  the  investment  and  recognize  an  impairment  loss  through  ourconsolidated\\n statement of operations. Investments in debt securities are evaluated for impairment quarterly based on whether its fair value has declined below itsamortized\\n cost. In circumstances where we intend to sell, or are more likely than not required to sell the security before it recovers its amortized cost basis, thedifference\\n between the fair value and amortized cost is recognized as a loss in the consolidated financial statement of operations, with a corresponding write-downof\\n the security’s amortized cost. In circumstances where neither condition exists, we then evaluate whether a decline is due to credit-related factors. The factorsconsidered\\n in determining whether a credit loss exists can include the extent to which fair value is less than the amortized cost basis, changes in the credit qualityof\\n the underlying loan obligors, credit ratings actions, as well as other factors. To determine the portion of a decline in fair value that is credit-related, we comparethe\\n present value of the expected cash flows of the security discounted at the security’s effective interest rate to the amortized cost basis of the security. A credit-related\\n impairment is limited to the difference between fair value and amortized cost, and recognized as an allowance for credit loss on the consolidated balancesheet\\n with a corresponding adjustment to net income (loss). Any remaining decline in fair value that is non-credit related is recognized in other comprehensiveincome\\n (loss), net of tax. Improvements in expected cash flows due to improvements in credit are recognized through reversal of the credit loss and correspondingreduction in the allowanc\\ne for credit loss.Equity Method Investments\\nWe\\n account for investments in the common stock or in-substance common stock of entities that provide us with the ability to exercise significant influence,but not\\n a controlling financial interest, using the equity method. Investments accounted for under the equity method are initially recorded at cost. Subsequently, werecognize\\n through the consolidated statements of operations, and as an adjustment to the investment balance, our proportionate share of the investee entities’ netincome or\\n loss, and the amortization of basis differences. In accounting for these investments, we record our share of the entities’ net income or loss one quarter inarrears.\\n Equity method investments for which the fair value option is elected are measured at fair value on a recurring basis with changes in fair value reflected inearnings.\\nWe\\n review  our  equity  method  investments  for  impairment  whenever  events  or  changes  in  business  circumstances  indicate  that  the  carrying  value  of  theinvestment\\n may  not  be  fully  recoverable.  Qualitative  and  quantitative  factors  considered  as  indicators  of  a  potential  impairment  include  financial  results  andoperating trends of the inv\\nestees, implied values in transactions of the investee’s securities, severity and length of decline in value, and our intention for holding theinvestment, among other factors. If an impairment is determined to be other-than-temporary, the fair value of the impaired investment woul\\nd have to be determinedand an\\n impairment charge recorded for the difference between the fair value and the carrying value of the investment. The fair value determination, particularly forinvestments in privately \\nheld companies, requires significant judgment to determine appropriate estimates and66\\n\", mimetype='text/plain', start_char_idx=None, end_char_idx=None, text_template='{metadata_str}\\n\\n{content}', metadata_template='{key}: {value}', metadata_seperator='\\n'),\n",
       " Document(id_='02a91a7c-6c09-445e-8765-538335afa596', embedding=None, metadata={'page_label': '69', 'file_name': 'uber_2021.pdf', 'file_path': 'data\\\\uber_2021.pdf', 'file_type': 'application/pdf', 'file_size': 1880483, 'creation_date': '2024-06-29', 'last_modified_date': '2024-06-29'}, excluded_embed_metadata_keys=['file_name', 'file_type', 'file_size', 'creation_date', 'last_modified_date', 'last_accessed_date'], excluded_llm_metadata_keys=['file_name', 'file_type', 'file_size', 'creation_date', 'last_modified_date', 'last_accessed_date'], relationships={}, text='assumptions. Changes in these estimates and assumptions could affect the calculation of the fair value of the investments and the determination of the impairmentcharges.\\nGoodwill Impairment Assessment\\nWe\\n review  goodwill  for  impairment  annually  (in  the  fourth  quarter)  and  whenever  events  or  changes  in  circumstances  indicate  that  goodwill  might  beimpaired.\\n We make certain judgments and assumptions to determine our reporting units and in allocating shared assets and liabilities to determine the carryingvalues\\n for each of our reporting units. Determination of reporting units is based on a judgmental evaluation of the level at which our segment managers reviewfinancial results, evaluate perf\\normance, and allocate resources.Judgment\\n in the assessment of qualitative factors of impairment include, among other factors: financial performance; legal, regulatory, contractual, political,business,\\n and other factors; entity specific factors; industry and market considerations, macroeconomic conditions, and other relevant events and factors affectingthe reporting\\n unit. To the extent we determine that it is more likely than not that the fair value of the reporting unit is less than its carrying value, a quantitative testis then performed.\\nPerforming\\n a  quantitative  goodwill  impairment  test  includes  the  determination  of  the  fair  value  of  a  reporting  unit  and  involves  significant  estimates  andassumptions.\\n These estimates and assumptions include, among others, revenue growth rates and operating margins used to calculate projected future cash flows,risk-adjusted discount\\n rates, future economic and market conditions, and the determination of appropriate market comparables.Loss Contingencies\\nWe\\n are  involved  in  legal  proceedings,  claims,  and  regulatory,  indirect  tax  examinations,  or  government  inquiries  and  investigations  that  may  arise  in  theordinary\\n course of business. Certain of these matters include speculative claims for substantial or indeterminate amounts of damages. We record a liability whenwe\\n believe that it is both probable that a loss has been incurred and the amount can be reasonably estimated. If we determine that a loss is reasonably possible andthe loss or range of loss can be \\nreasonably estimated, we disclose the possible loss in the accompanying notes to the consolidated financial statements.We\\n review the developments in our contingencies that could affect the amount of the provisions that have been previously recorded, and the matters andrelated\\n reasonably  possible  losses  disclosed.  We  make  adjustments  to  our  provisions  and  changes  to  our  disclosures  accordingly  to  reflect  the  impact  ofnegotiations,\\n settlements, rulings, advice of legal counsel, and updated information. Significant judgment is required to determine both the probability and theestimated\\n amount of loss. These estimates have been based on our assessment of the facts and circumstances at each balance sheet date and are subject to changebased on new information and futu\\nre events.The\\n outcomes of litigation, indirect tax examinations and investigations are inherently uncertain. Therefore, if one or more of these matters were resolvedagainst\\n us for amounts in excess of management’s expectations, our results of operations, financial condition, or cash flows, including in a particular reportingperiod in which any such outcome be\\ncomes probable and estimable, could be materially adversely affected.Income Taxes\\nWe\\n are  subject  to  income  taxes  in  the  United  States  and  foreign  jurisdictions.  We  account  for  income  taxes  using  the  asset  and  liability  method.  Theestablishment\\n of  deferred  tax  assets  from  intra-entity  transfers  of  intangible  assets  requires  management  to  make  significant  estimates  and  assumptions  todetermine the\\n fair value of such intangible assets. Significant estimates in valuing intangible assets may include, but are not necessarily limited to, internal revenueand expense forecasts, the\\n estimated life of the intangible assets, comparable transaction values, and/or discount rates. The discount rates used to discount expectedfuture cash flows to present value are\\n derived from a weighted-average cost of capital analysis and are adjusted to reflect the inherent risks related to the cash flow.Although\\n we believe the assumptions and estimates we have made are reasonable and appropriate, they are based, in part, on historical experience, internal andexternal\\n comparable data and are inherently uncertain. Unanticipated events and circumstances may occur that could affect either the accuracy or validity of suchassumptions, estimates or \\nactual results.We\\n account for uncertainty in tax positions by recognizing a tax benefit from uncertain tax positions when it is more-likely-than-not that the position will besustained\\n upon examination. Evaluating our uncertain tax positions and determining our provision for income taxes are inherently uncertain and require makingjudgments,\\n assumptions, and estimates. While we believe we have adequately reserved for our uncertain tax positions, no assurance can be given that the final taxoutcome\\n of these matters will not be different. We adjust these reserves in light of changing facts and circumstances, such as the closing of a tax audit. To theextent\\n that the final tax outcome of these matters  is different  than the amounts recorded,  such differences  may impact the provision for income taxes and theeffective tax ra\\nte in the period in which such determination is made.The\\n provision for income taxes includes the impact of reserve provisions and changes to reserves as well as the related net interest and penalties. In addition,we are\\n subject to the continuous examination of our income tax returns by the IRS and other tax authorities which may assert assessments against us. We regularlyassess the likelihood of adve\\nrse outcomes resulting from these examinations and assessments to determine the adequacy of our provision for income taxes.67\\n', mimetype='text/plain', start_char_idx=None, end_char_idx=None, text_template='{metadata_str}\\n\\n{content}', metadata_template='{key}: {value}', metadata_seperator='\\n')]"
      ]
     },
     "execution_count": 18,
     "metadata": {},
     "output_type": "execute_result"
    }
   ],
   "source": [
    "uber_docs"
   ]
  },
  {
   "cell_type": "code",
   "execution_count": 19,
   "id": "a780a888-a79b-444a-9730-9d8ba0fcff26",
   "metadata": {},
   "outputs": [
    {
     "name": "stderr",
     "output_type": "stream",
     "text": [
      "100%|██████████| 2/2 [00:01<00:00,  1.27it/s]\n",
      "100%|██████████| 1/1 [00:01<00:00,  1.01s/it]\n",
      "100%|██████████| 1/1 [00:01<00:00,  1.12s/it]\n",
      "100%|██████████| 3/3 [00:00<00:00,  3.18it/s]\n",
      "100%|██████████| 2/2 [00:00<00:00,  2.09it/s]\n",
      "100%|██████████| 3/3 [00:01<00:00,  2.91it/s]\n",
      "100%|██████████| 3/3 [00:00<00:00,  3.49it/s]\n",
      "100%|██████████| 3/3 [00:01<00:00,  2.80it/s]\n",
      "100%|██████████| 3/3 [00:01<00:00,  2.26it/s]\n",
      "100%|██████████| 21/21 [00:12<00:00,  1.69it/s]\n"
     ]
    }
   ],
   "source": [
    "from llama_index.core.ingestion import IngestionPipeline\n",
    "\n",
    "pipeline = IngestionPipeline(transformations=transformations)\n",
    "\n",
    "uber_nodes = pipeline.run(documents=uber_docs)"
   ]
  },
  {
   "cell_type": "code",
   "execution_count": 23,
   "id": "6c6a2485-d563-4752-bf1d-a52bace0ef87",
   "metadata": {},
   "outputs": [
    {
     "data": {
      "text/plain": [
       "{'page_label': '64',\n",
       " 'file_name': 'uber_2021.pdf',\n",
       " 'file_path': 'data\\\\uber_2021.pdf',\n",
       " 'file_type': 'application/pdf',\n",
       " 'file_size': 1880483,\n",
       " 'creation_date': '2024-06-29',\n",
       " 'last_modified_date': '2024-06-29',\n",
       " 'document_title': 'The Impact of COVID-19 Response Initiatives on Adjusted EBITDA and Financial Reporting: Understanding Exclusions and Reconciliation',\n",
       " 'questions_this_excerpt_can_answer': '1. How does Uber account for the costs associated with COVID-19 response initiatives, such as financial assistance to drivers and distribution of personal protective equipment?\\n2. What are the limitations of using Adjusted EBITDA as a financial measure, according to the document on the impact of COVID-19 response initiatives on financial reporting?\\n3. How does Uber exclude certain expenses, such as stock-based compensation and COVID-19 response initiative costs, when calculating Adjusted EBITDA and financial reporting?'}"
      ]
     },
     "execution_count": 23,
     "metadata": {},
     "output_type": "execute_result"
    }
   ],
   "source": [
    "uber_nodes[5].metadata"
   ]
  },
  {
   "cell_type": "code",
   "execution_count": 24,
   "id": "d0b8504f-dbac-42e3-97e7-c59825c314e8",
   "metadata": {},
   "outputs": [],
   "source": [
    "# Note the uninformative document file name, which may be a common scenario in a production setting\n",
    "lyft_docs = SimpleDirectoryReader(\n",
    "    input_files=[\"data/lyft_2021.pdf\"]\n",
    ").load_data()\n",
    "lyft_front_pages = lyft_docs[0:3]\n",
    "lyft_content = lyft_docs[68:73]\n",
    "lyft_docs = lyft_front_pages + lyft_content"
   ]
  },
  {
   "cell_type": "code",
   "execution_count": 25,
   "id": "b36ade42-344b-4267-89fa-878c85d27105",
   "metadata": {},
   "outputs": [
    {
     "name": "stderr",
     "output_type": "stream",
     "text": [
      "100%|██████████| 3/3 [00:01<00:00,  2.61it/s]\n",
      "100%|██████████| 1/1 [00:00<00:00,  1.11it/s]\n",
      "100%|██████████| 2/2 [00:00<00:00,  2.08it/s]\n",
      "100%|██████████| 3/3 [00:00<00:00,  3.15it/s]\n",
      "100%|██████████| 3/3 [00:01<00:00,  2.09it/s]\n",
      "100%|██████████| 3/3 [00:01<00:00,  2.46it/s]\n",
      "100%|██████████| 3/3 [00:00<00:00,  3.10it/s]\n",
      "100%|██████████| 1/1 [00:00<00:00,  1.39it/s]\n",
      "100%|██████████| 19/19 [00:10<00:00,  1.80it/s]\n"
     ]
    }
   ],
   "source": [
    "from llama_index.core.ingestion import IngestionPipeline\n",
    "\n",
    "pipeline = IngestionPipeline(transformations=transformations)\n",
    "\n",
    "lyft_nodes = pipeline.run(documents=lyft_docs)"
   ]
  },
  {
   "cell_type": "code",
   "execution_count": 26,
   "id": "251297df-6deb-439f-b811-9929a4b48db7",
   "metadata": {},
   "outputs": [
    {
     "data": {
      "text/plain": [
       "{'page_label': '3',\n",
       " 'file_name': 'lyft_2021.pdf',\n",
       " 'file_path': 'data\\\\lyft_2021.pdf',\n",
       " 'file_type': 'application/pdf',\n",
       " 'file_size': 1440303,\n",
       " 'creation_date': '2024-06-29',\n",
       " 'last_modified_date': '2024-06-29',\n",
       " 'document_title': 'Navigating Risks and Opportunities in the Transportation Industry: A Forward-Looking Perspective',\n",
       " 'questions_this_excerpt_can_answer': \"1. How does Lyft plan to address new and evolving markets, such as Lyft Autonomous, Light Vehicles, Driver Centers, and Lyft Mobile Services?\\n2. What are Lyft's strategies for managing risks associated with their Transportation-as-a-Service network, including auto-related and operations-related risks?\\n3. How does Lyft plan to maintain, protect, and enhance their intellectual property in the competitive and rapidly changing environment of the transportation industry?\"}"
      ]
     },
     "execution_count": 26,
     "metadata": {},
     "output_type": "execute_result"
    }
   ],
   "source": [
    "lyft_nodes[5].metadata"
   ]
  },
  {
   "cell_type": "code",
   "execution_count": 27,
   "id": "7a4eacd0-72fe-446c-b95f-1c5b04ead2d5",
   "metadata": {},
   "outputs": [],
   "source": [
    "from llama_index.core.question_gen import LLMQuestionGenerator\n",
    "from llama_index.core.question_gen.prompts import (\n",
    "    DEFAULT_SUB_QUESTION_PROMPT_TMPL,\n",
    ")\n",
    "\n",
    "\n",
    "question_gen = LLMQuestionGenerator.from_defaults(\n",
    "    llm=llm,\n",
    "    prompt_template_str=\"\"\"\n",
    "        Follow the example, but instead of giving a question, always prefix the question \n",
    "        with: 'By first identifying and quoting the most relevant sources, '. \n",
    "        \"\"\"\n",
    "    + DEFAULT_SUB_QUESTION_PROMPT_TMPL,\n",
    ")"
   ]
  },
  {
   "cell_type": "markdown",
   "id": "fa455ef5-4eeb-45ba-876b-0ddfca11fe61",
   "metadata": {},
   "source": [
    "## Querying an Index With No Extra Metadata"
   ]
  },
  {
   "cell_type": "code",
   "execution_count": 36,
   "id": "101c1dfb-1fab-45b3-9bff-d49945b573dc",
   "metadata": {},
   "outputs": [],
   "source": [
    "from copy import deepcopy\n",
    "\n",
    "nodes_no_metadata = deepcopy(uber_nodes) + deepcopy(lyft_nodes)\n",
    "for node in nodes_no_metadata:\n",
    "    node.metadata = {\n",
    "        k: node.metadata[k]\n",
    "        for k in node.metadata\n",
    "        if k in [\"page_label\", \"file_name\"]\n",
    "    }\n"
   ]
  },
  {
   "cell_type": "code",
   "execution_count": 39,
   "id": "f9b7d5f6-96c4-4536-a7cf-6aa85823a1e7",
   "metadata": {},
   "outputs": [
    {
     "name": "stdout",
     "output_type": "stream",
     "text": [
      "LLM sees:\n",
      " [Excerpt from document]\n",
      "page_label: 65\n",
      "Excerpt:\n",
      "-----\n",
      "millions)\n",
      "2020 2021 Net cash used in operating ac\n",
      "tivities$ (2,745) $ (445) Net cash used in investing act\n",
      "ivities(2,869) (1,201) Net cash provided by financing a\n",
      "ctivities1,379 1,780 Operating Activities\n",
      "Net\n",
      " cash used in operating activities was $445 million for the year ended December 31, 2021, primarily consisting of $570 million of net loss, adjusted forcertain\n",
      " non-cash items, which primarily included $1.7 billion in gain on business divestitures, $1.2 billion of stock-based compensation expense, $1.1 billion ofunrealized\n",
      " gain on debt and equity securities, $413 million of gain from sale of investments, depreciation and amortization expense of $902 million, as well as a$477 million decrease\n",
      " in cash consumed by working capital. The decrease in cash consumed by working capital and other operating activities was primarily drivenby\n",
      " an increase in accrued expenses and other liabilities, an increase in our insurance reserves, partially offset by higher accounts receivable and prepaid expensesand\n",
      " lower operating lease liabilities. Net cash used in operating activities also reflects a $1.0 billion cash inflow related to a legacy auto insurance transfer. Foradditional\n",
      " information on the legacy auto insurance transfer, see Note 1 – Description of Business and Summary of Significant Accounting Policies included inPart II, Item 8, “Financi\n",
      "al Statements and Supplementary Data,” of this Annual Report on Form 10-K.(1)(1\n",
      ")63\n",
      "-----\n"
     ]
    }
   ],
   "source": [
    "print(\n",
    "    \"LLM sees:\\n\",\n",
    "    (nodes_no_metadata)[8].get_content(metadata_mode=MetadataMode.LLM),\n",
    ")"
   ]
  },
  {
   "cell_type": "code",
   "execution_count": 30,
   "id": "889f3a8d-e6e0-441f-bbac-be8192ede19c",
   "metadata": {},
   "outputs": [],
   "source": [
    "from llama_index.core import VectorStoreIndex\n",
    "from llama_index.core.query_engine import SubQuestionQueryEngine\n",
    "from llama_index.core.tools import QueryEngineTool, ToolMetadata"
   ]
  },
  {
   "cell_type": "code",
   "execution_count": 31,
   "id": "3d9e8cbd-f5c9-4273-92d9-b3b6057376c6",
   "metadata": {},
   "outputs": [],
   "source": [
    "index_no_metadata = VectorStoreIndex(\n",
    "    nodes=nodes_no_metadata,\n",
    ")\n",
    "engine_no_metadata = index_no_metadata.as_query_engine(\n",
    "    similarity_top_k=10, llm=OpenAI(model=\"gpt-4\")\n",
    ")"
   ]
  },
  {
   "cell_type": "code",
   "execution_count": 32,
   "id": "5095e662-0e12-4b03-8537-70b4a07a5140",
   "metadata": {},
   "outputs": [],
   "source": [
    "final_engine_no_metadata = SubQuestionQueryEngine.from_defaults(\n",
    "    query_engine_tools=[\n",
    "        QueryEngineTool(\n",
    "            query_engine=engine_no_metadata,\n",
    "            metadata=ToolMetadata(\n",
    "                name=\"sec_filing_documents\",\n",
    "                description=\"financial information on companies\",\n",
    "            ),\n",
    "        )\n",
    "    ],\n",
    "    question_gen=question_gen,\n",
    "    use_async=True,\n",
    ")"
   ]
  },
  {
   "cell_type": "code",
   "execution_count": 34,
   "id": "7b67c825-e53f-4f67-9d14-58b5d8fd65fb",
   "metadata": {},
   "outputs": [
    {
     "name": "stdout",
     "output_type": "stream",
     "text": [
      "Generated 4 sub questions.\n",
      "\u001b[1;3;38;2;237;90;200m[sec_filing_documents] Q: What was the cost due to research and development for Uber in 2019 in millions of USD\n",
      "\u001b[0m\u001b[1;3;38;2;90;149;237m[sec_filing_documents] Q: What was the cost due to sales and marketing for Uber in 2019 in millions of USD\n",
      "\u001b[0m\u001b[1;3;38;2;11;159;203m[sec_filing_documents] Q: What was the cost due to research and development for Lyft in 2019 in millions of USD\n",
      "\u001b[0m\u001b[1;3;38;2;155;135;227m[sec_filing_documents] Q: What was the cost due to sales and marketing for Lyft in 2019 in millions of USD\n",
      "\u001b[0m\u001b[1;3;38;2;11;159;203m[sec_filing_documents] A: The context does not provide information on the cost of research and development for Lyft in 2019.\n",
      "\u001b[0m\u001b[1;3;38;2;237;90;200m[sec_filing_documents] A: The context does not provide information on the cost of research and development for Uber in 2019.\n",
      "\u001b[0m\u001b[1;3;38;2;155;135;227m[sec_filing_documents] A: The context does not provide information on the cost due to sales and marketing for Lyft in 2019 in millions of USD.\n",
      "\u001b[0m\u001b[1;3;38;2;90;149;237m[sec_filing_documents] A: The context does not provide information on the cost due to sales and marketing for Uber in 2019.\n",
      "\u001b[0m{\n",
      "    \"Uber\": {\n",
      "        \"Research and Development Cost (2019)\": \"Information not provided\",\n",
      "        \"Sales and Marketing Cost (2019)\": \"Information not provided\"\n",
      "    },\n",
      "    \"Lyft\": {\n",
      "        \"Research and Development Cost (2019)\": \"Information not provided\",\n",
      "        \"Sales and Marketing Cost (2019)\": \"Information not provided\"\n",
      "    }\n",
      "}\n"
     ]
    }
   ],
   "source": [
    "response_no_metadata = final_engine_no_metadata.query(\n",
    "    \"\"\"\n",
    "    What was the cost due to research and development v.s. sales and marketing for uber and lyft in 2019 in millions of USD?\n",
    "    Give your answer as a JSON.\n",
    "    \"\"\"\n",
    ")\n",
    "print(response_no_metadata.response)\n",
    "# Correct answer:\n",
    "# {\"Uber\": {\"Research and Development\": 4836, \"Sales and Marketing\": 4626},\n",
    "#  \"Lyft\": {\"Research and Development\": 1505.6, \"Sales and Marketing\": 814 }}"
   ]
  },
  {
   "cell_type": "markdown",
   "id": "bd9ed0e7-3a7e-4cb8-8bac-ee0e5d8ff870",
   "metadata": {},
   "source": [
    "## Querying an Index With Extracted Metadata"
   ]
  },
  {
   "cell_type": "code",
   "execution_count": 40,
   "id": "dc81767f-d2a3-41dc-b337-efb9a310fa95",
   "metadata": {},
   "outputs": [
    {
     "name": "stdout",
     "output_type": "stream",
     "text": [
      "LLM sees:\n",
      " [Excerpt from document]\n",
      "page_label: 65\n",
      "file_path: data\\uber_2021.pdf\n",
      "document_title: Financial Performance and Currency Analysis for Uber Technologies, Inc., Summary of Cash Flow Activities for the Year Ended December 31, 2021.\n",
      "questions_this_excerpt_can_answer: 1. How much net cash was used in operating activities for Uber Technologies, Inc. in the year ended December 31, 2021, and what were the main contributing factors to this amount?\n",
      "2. What were the key non-cash items that impacted Uber's net cash used in operating activities for the year ended December 31, 2021, and how did they affect the overall cash flow?\n",
      "3. Can you provide details on the $1.0 billion cash inflow related to a legacy auto insurance transfer mentioned in the excerpt, including how it impacted Uber's operating activities and financial performance for the year?\n",
      "Excerpt:\n",
      "-----\n",
      "millions)\n",
      "2020 2021 Net cash used in operating ac\n",
      "tivities$ (2,745) $ (445) Net cash used in investing act\n",
      "ivities(2,869) (1,201) Net cash provided by financing a\n",
      "ctivities1,379 1,780 Operating Activities\n",
      "Net\n",
      " cash used in operating activities was $445 million for the year ended December 31, 2021, primarily consisting of $570 million of net loss, adjusted forcertain\n",
      " non-cash items, which primarily included $1.7 billion in gain on business divestitures, $1.2 billion of stock-based compensation expense, $1.1 billion ofunrealized\n",
      " gain on debt and equity securities, $413 million of gain from sale of investments, depreciation and amortization expense of $902 million, as well as a$477 million decrease\n",
      " in cash consumed by working capital. The decrease in cash consumed by working capital and other operating activities was primarily drivenby\n",
      " an increase in accrued expenses and other liabilities, an increase in our insurance reserves, partially offset by higher accounts receivable and prepaid expensesand\n",
      " lower operating lease liabilities. Net cash used in operating activities also reflects a $1.0 billion cash inflow related to a legacy auto insurance transfer. Foradditional\n",
      " information on the legacy auto insurance transfer, see Note 1 – Description of Business and Summary of Significant Accounting Policies included inPart II, Item 8, “Financi\n",
      "al Statements and Supplementary Data,” of this Annual Report on Form 10-K.(1)(1\n",
      ")63\n",
      "-----\n"
     ]
    }
   ],
   "source": [
    "print(\n",
    "    \"LLM sees:\\n\",\n",
    "    (uber_nodes + lyft_nodes)[8].get_content(metadata_mode=MetadataMode.LLM),\n",
    ")"
   ]
  },
  {
   "cell_type": "code",
   "execution_count": 41,
   "id": "4c0704f9-4db8-4b2b-963f-8e46c340ab9e",
   "metadata": {},
   "outputs": [],
   "source": [
    "index = VectorStoreIndex(\n",
    "    nodes=uber_nodes + lyft_nodes,\n",
    ")\n",
    "engine = index.as_query_engine(similarity_top_k=10, llm=OpenAI(model=\"gpt-4\"))"
   ]
  },
  {
   "cell_type": "code",
   "execution_count": 42,
   "id": "bcf271b3-6804-44a0-a813-72b3acedb687",
   "metadata": {},
   "outputs": [],
   "source": [
    "final_engine = SubQuestionQueryEngine.from_defaults(\n",
    "    query_engine_tools=[\n",
    "        QueryEngineTool(\n",
    "            query_engine=engine,\n",
    "            metadata=ToolMetadata(\n",
    "                name=\"sec_filing_documents\",\n",
    "                description=\"financial information on companies.\",\n",
    "            ),\n",
    "        )\n",
    "    ],\n",
    "    question_gen=question_gen,\n",
    "    use_async=True,\n",
    ")"
   ]
  },
  {
   "cell_type": "code",
   "execution_count": null,
   "id": "0ec3e970-486d-45e8-aa02-9088b42f1d30",
   "metadata": {},
   "outputs": [
    {
     "name": "stdout",
     "output_type": "stream",
     "text": [
      "Generated 4 sub questions.\n",
      "\u001b[1;3;38;2;237;90;200m[sec_filing_documents] Q: By first identifying and quoting the most relevant sources, What was the cost due to research and development for Uber in 2019 in millions of USD?\n",
      "\u001b[0m\u001b[1;3;38;2;90;149;237m[sec_filing_documents] Q: By first identifying and quoting the most relevant sources, What was the cost due to sales and marketing for Uber in 2019 in millions of USD?\n",
      "\u001b[0m\u001b[1;3;38;2;11;159;203m[sec_filing_documents] Q: By first identifying and quoting the most relevant sources, What was the cost due to research and development for Lyft in 2019 in millions of USD?\n",
      "\u001b[0m\u001b[1;3;38;2;155;135;227m[sec_filing_documents] Q: By first identifying and quoting the most relevant sources, What was the cost due to sales and marketing for Lyft in 2019 in millions of USD?\n",
      "\u001b[0m\u001b[1;3;38;2;237;90;200m[sec_filing_documents] A: The provided context does not contain information about the cost due to research and development for Uber in 2019.\n",
      "\u001b[0m\u001b[1;3;38;2;11;159;203m[sec_filing_documents] A: The provided context does not contain information about the cost of research and development for Lyft in 2019.\n",
      "\u001b[0m"
     ]
    }
   ],
   "source": [
    "response = final_engine.query(\n",
    "    \"\"\"\n",
    "    What was the cost due to research and development v.s. sales and marketing for uber and lyft in 2019 in millions of USD?\n",
    "    Give your answer as a JSON.\n",
    "    \"\"\"\n",
    ")\n",
    "print(response.response)\n",
    "# Correct answer:\n",
    "# {\"Uber\": {\"Research and Development\": 4836, \"Sales and Marketing\": 4626},\n",
    "#  \"Lyft\": {\"Research and Development\": 1505.6, \"Sales and Marketing\": 814 }}"
   ]
  },
  {
   "cell_type": "code",
   "execution_count": null,
   "id": "92f21817-3d08-4c09-8a11-e7d442172343",
   "metadata": {},
   "outputs": [],
   "source": []
  }
 ],
 "metadata": {
  "kernelspec": {
   "display_name": "Python 3 (ipykernel)",
   "language": "python",
   "name": "python3"
  },
  "language_info": {
   "codemirror_mode": {
    "name": "ipython",
    "version": 3
   },
   "file_extension": ".py",
   "mimetype": "text/x-python",
   "name": "python",
   "nbconvert_exporter": "python",
   "pygments_lexer": "ipython3",
   "version": "3.11.7"
  }
 },
 "nbformat": 4,
 "nbformat_minor": 5
}
