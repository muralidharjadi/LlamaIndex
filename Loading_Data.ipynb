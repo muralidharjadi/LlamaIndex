{
 "cells": [
  {
   "cell_type": "code",
   "execution_count": 1,
   "id": "5ce92b58-3074-4838-aec9-ed8f68409d9e",
   "metadata": {},
   "outputs": [],
   "source": [
    "from llama_index.core import SimpleDirectoryReader\n",
    "\n",
    "documents = SimpleDirectoryReader(\"D:\\Data\\LLM\\llamaindex\").load_data()"
   ]
  },
  {
   "cell_type": "code",
   "execution_count": 2,
   "id": "d00af8ba-ef97-4a23-9cd9-7b1d883b8dee",
   "metadata": {},
   "outputs": [
    {
     "data": {
      "text/plain": [
       "[Document(id_='5b1cdd41-548d-44e3-a684-6bb325b81138', embedding=None, metadata={'page_label': '1', 'file_name': 'Indian_Economy_Overview.pdf', 'file_path': 'D:\\\\Data\\\\LLM\\\\llamaindex\\\\Indian_Economy_Overview.pdf', 'file_type': 'application/pdf', 'file_size': 7918, 'creation_date': '2024-06-09', 'last_modified_date': '2024-06-09'}, excluded_embed_metadata_keys=['file_name', 'file_type', 'file_size', 'creation_date', 'last_modified_date', 'last_accessed_date'], excluded_llm_metadata_keys=['file_name', 'file_type', 'file_size', 'creation_date', 'last_modified_date', 'last_accessed_date'], relationships={}, text='Indian Economy: An Overview\\nIndian Economy: An Overview\\nPage 1', start_char_idx=None, end_char_idx=None, text_template='{metadata_str}\\n\\n{content}', metadata_template='{key}: {value}', metadata_seperator='\\n'),\n",
       " Document(id_='e4e17029-7649-475d-a97a-869310ed40e5', embedding=None, metadata={'page_label': '2', 'file_name': 'Indian_Economy_Overview.pdf', 'file_path': 'D:\\\\Data\\\\LLM\\\\llamaindex\\\\Indian_Economy_Overview.pdf', 'file_type': 'application/pdf', 'file_size': 7918, 'creation_date': '2024-06-09', 'last_modified_date': '2024-06-09'}, excluded_embed_metadata_keys=['file_name', 'file_type', 'file_size', 'creation_date', 'last_modified_date', 'last_accessed_date'], excluded_llm_metadata_keys=['file_name', 'file_type', 'file_size', 'creation_date', 'last_modified_date', 'last_accessed_date'], relationships={}, text=\"Indian Economy: An Overview\\nIntroduction\\nIndia, one of the world's fastest-growing economies, has shown remarkable resilience and growth\\nover the past few decades. With a population of over 1.4 billion people, it is the world's second-most\\npopulous country and boasts a diverse and complex economy that encompasses agriculture,\\nmanufacturing, and services sectors. This document provides an overview of the Indian economy,\\ntracing its historical background, economic reforms, key sectors, current scenario, challenges, and\\nfuture prospects.\\nPage 2\", start_char_idx=None, end_char_idx=None, text_template='{metadata_str}\\n\\n{content}', metadata_template='{key}: {value}', metadata_seperator='\\n'),\n",
       " Document(id_='3c4a683d-06a0-407c-9f1b-f619b81a5888', embedding=None, metadata={'page_label': '3', 'file_name': 'Indian_Economy_Overview.pdf', 'file_path': 'D:\\\\Data\\\\LLM\\\\llamaindex\\\\Indian_Economy_Overview.pdf', 'file_type': 'application/pdf', 'file_size': 7918, 'creation_date': '2024-06-09', 'last_modified_date': '2024-06-09'}, excluded_embed_metadata_keys=['file_name', 'file_type', 'file_size', 'creation_date', 'last_modified_date', 'last_accessed_date'], excluded_llm_metadata_keys=['file_name', 'file_type', 'file_size', 'creation_date', 'last_modified_date', 'last_accessed_date'], relationships={}, text=\"Indian Economy: An Overview\\nHistorical Background\\nThe economic history of India is a story of contrast and transformation. Pre-independence, India was\\none of the world's richest economies, heavily relying on agriculture and trade. However, colonial\\nexploitation and subsequent policies led to a significant decline in economic stature.\\nPost-independence in 1947, India adopted a mixed economy model, combining features of both\\ncapitalism and socialism. The government focused on self-reliance, implementing policies of import\\nsubstitution industrialization. The economy, however, was hampered by inefficiencies and slow\\ngrowth, often referred to as the 'Hindu rate of growth.'\\nPage 3\", start_char_idx=None, end_char_idx=None, text_template='{metadata_str}\\n\\n{content}', metadata_template='{key}: {value}', metadata_seperator='\\n'),\n",
       " Document(id_='781abb0d-02c1-4d2e-8f39-d77f36f89beb', embedding=None, metadata={'page_label': '4', 'file_name': 'Indian_Economy_Overview.pdf', 'file_path': 'D:\\\\Data\\\\LLM\\\\llamaindex\\\\Indian_Economy_Overview.pdf', 'file_type': 'application/pdf', 'file_size': 7918, 'creation_date': '2024-06-09', 'last_modified_date': '2024-06-09'}, excluded_embed_metadata_keys=['file_name', 'file_type', 'file_size', 'creation_date', 'last_modified_date', 'last_accessed_date'], excluded_llm_metadata_keys=['file_name', 'file_type', 'file_size', 'creation_date', 'last_modified_date', 'last_accessed_date'], relationships={}, text='Indian Economy: An Overview\\nEconomic Reforms\\nThe watershed moment for the Indian economy came in 1991 when a severe balance of payments\\ncrisis triggered comprehensive economic reforms. These reforms, known as the Liberalization,\\nPrivatization, and Globalization (LPG) reforms, were initiated under the leadership of then-Finance\\nMinister Dr. Manmohan Singh.\\nKey reforms included:\\n- Deregulation of industries\\n- Reduction in import tariffs and duties\\n- Liberalization of foreign direct investment (FDI) policies\\n- Privatization of state-owned enterprises\\n- Overhaul of the tax system\\nThese reforms spurred rapid economic growth, transformed India into a more market-oriented\\neconomy, and integrated it into the global economy.\\nPage 4', start_char_idx=None, end_char_idx=None, text_template='{metadata_str}\\n\\n{content}', metadata_template='{key}: {value}', metadata_seperator='\\n'),\n",
       " Document(id_='704456dc-d6ad-41ba-b959-84b081bf1af9', embedding=None, metadata={'page_label': '5', 'file_name': 'Indian_Economy_Overview.pdf', 'file_path': 'D:\\\\Data\\\\LLM\\\\llamaindex\\\\Indian_Economy_Overview.pdf', 'file_type': 'application/pdf', 'file_size': 7918, 'creation_date': '2024-06-09', 'last_modified_date': '2024-06-09'}, excluded_embed_metadata_keys=['file_name', 'file_type', 'file_size', 'creation_date', 'last_modified_date', 'last_accessed_date'], excluded_llm_metadata_keys=['file_name', 'file_type', 'file_size', 'creation_date', 'last_modified_date', 'last_accessed_date'], relationships={}, text=\"Indian Economy: An Overview\\nKey Sectors of the Indian Economy\\nAgriculture: Agriculture has historically been the backbone of the Indian economy. It employs around\\n42% of the workforce and contributes approximately 16% to the GDP. Key agricultural products\\ninclude rice, wheat, pulses, spices, and cotton. Despite its importance, the sector faces challenges\\nsuch as low productivity, fragmented land holdings, and dependence on monsoons.\\nIndustry: The industrial sector has witnessed significant growth post-reforms. It contributes about\\n25% to the GDP and includes sub-sectors like manufacturing, mining, and construction. The 'Make\\nin India' initiative launched in 2014 aims to boost manufacturing, attract FDI, and create jobs,\\npositioning India as a global manufacturing hub.\\nServices: The services sector is the largest contributor to the Indian economy, accounting for around\\n55% of the GDP. It encompasses a wide range of activities including IT and IT-enabled services,\\ntelecommunications, banking, retail, and tourism. India's IT industry, centered in cities like\\nBengaluru, Hyderabad, and Pune, is renowned globally and a significant source of export revenue.\\nPage 5\", start_char_idx=None, end_char_idx=None, text_template='{metadata_str}\\n\\n{content}', metadata_template='{key}: {value}', metadata_seperator='\\n'),\n",
       " Document(id_='50f6da57-6173-4cc3-bb7d-012ccb5b8551', embedding=None, metadata={'page_label': '6', 'file_name': 'Indian_Economy_Overview.pdf', 'file_path': 'D:\\\\Data\\\\LLM\\\\llamaindex\\\\Indian_Economy_Overview.pdf', 'file_type': 'application/pdf', 'file_size': 7918, 'creation_date': '2024-06-09', 'last_modified_date': '2024-06-09'}, excluded_embed_metadata_keys=['file_name', 'file_type', 'file_size', 'creation_date', 'last_modified_date', 'last_accessed_date'], excluded_llm_metadata_keys=['file_name', 'file_type', 'file_size', 'creation_date', 'last_modified_date', 'last_accessed_date'], relationships={}, text='Indian Economy: An Overview\\nCurrent Economic Scenario\\nAs of 2024, the Indian economy continues to grow, albeit at a slower pace than in previous decades.\\nThe COVID-19 pandemic had a profound impact, causing a contraction in GDP in 2020-21.\\nHowever, a robust recovery is underway, driven by government stimulus measures, digitalization,\\nand strong domestic consumption.\\nInflation remains a challenge, driven by supply chain disruptions and rising commodity prices. The\\ngovernment has focused on infrastructure development, digital economy, and social welfare\\nschemes to drive growth. Initiatives such as the Goods and Services Tax (GST) and Insolvency and\\nBankruptcy Code (IBC) have been instrumental in improving the business environment.\\nPage 6', start_char_idx=None, end_char_idx=None, text_template='{metadata_str}\\n\\n{content}', metadata_template='{key}: {value}', metadata_seperator='\\n'),\n",
       " Document(id_='d35c5c94-f16a-4e1e-9b17-e63de88cc06c', embedding=None, metadata={'page_label': '7', 'file_name': 'Indian_Economy_Overview.pdf', 'file_path': 'D:\\\\Data\\\\LLM\\\\llamaindex\\\\Indian_Economy_Overview.pdf', 'file_type': 'application/pdf', 'file_size': 7918, 'creation_date': '2024-06-09', 'last_modified_date': '2024-06-09'}, excluded_embed_metadata_keys=['file_name', 'file_type', 'file_size', 'creation_date', 'last_modified_date', 'last_accessed_date'], excluded_llm_metadata_keys=['file_name', 'file_type', 'file_size', 'creation_date', 'last_modified_date', 'last_accessed_date'], relationships={}, text='Indian Economy: An Overview\\nChallenges Facing the Indian Economy\\nDespite its growth trajectory, the Indian economy faces several challenges:\\n- Unemployment: Job creation has not kept pace with the growing labor force, leading to high\\nunemployment rates, particularly among the youth.\\n- Income Inequality: Economic growth has not been evenly distributed, resulting in significant income\\ndisparities.\\n- Agricultural Distress: The agricultural sector continues to struggle with issues like low productivity,\\ninadequate infrastructure, and farmer indebtedness.\\n- Infrastructure Deficit: Inadequate infrastructure in sectors like transportation, power, and logistics\\nhampers economic efficiency and growth.\\n- Regulatory Hurdles: Despite reforms, bureaucratic red tape and regulatory hurdles still pose\\nchallenges to ease of doing business.\\nPage 7', start_char_idx=None, end_char_idx=None, text_template='{metadata_str}\\n\\n{content}', metadata_template='{key}: {value}', metadata_seperator='\\n'),\n",
       " Document(id_='a0398f7d-6c59-4dda-9d4f-d99aed14edba', embedding=None, metadata={'page_label': '8', 'file_name': 'Indian_Economy_Overview.pdf', 'file_path': 'D:\\\\Data\\\\LLM\\\\llamaindex\\\\Indian_Economy_Overview.pdf', 'file_type': 'application/pdf', 'file_size': 7918, 'creation_date': '2024-06-09', 'last_modified_date': '2024-06-09'}, excluded_embed_metadata_keys=['file_name', 'file_type', 'file_size', 'creation_date', 'last_modified_date', 'last_accessed_date'], excluded_llm_metadata_keys=['file_name', 'file_type', 'file_size', 'creation_date', 'last_modified_date', 'last_accessed_date'], relationships={}, text='Indian Economy: An Overview\\nFuture Prospects\\nThe future prospects of the Indian economy remain positive, driven by several factors:\\n- Demographic Dividend: A young and growing population provides a vast labor force and consumer\\nmarket.\\n- Technological Advancements: Rapid digitalization and technological adoption are transforming\\nvarious sectors, enhancing productivity and innovation.\\n- Policy Reforms: Continued focus on economic reforms, ease of doing business, and infrastructure\\ndevelopment will support sustainable growth.\\n- Global Integration: Increasing integration with the global economy through trade agreements and\\nFDI will open new avenues for growth.\\nHowever, to fully realize its potential, India must address structural issues, invest in human capital,\\nand ensure inclusive growth.\\nPage 8', start_char_idx=None, end_char_idx=None, text_template='{metadata_str}\\n\\n{content}', metadata_template='{key}: {value}', metadata_seperator='\\n'),\n",
       " Document(id_='33cb6933-b31a-49ea-8f96-9f20921d7640', embedding=None, metadata={'page_label': '9', 'file_name': 'Indian_Economy_Overview.pdf', 'file_path': 'D:\\\\Data\\\\LLM\\\\llamaindex\\\\Indian_Economy_Overview.pdf', 'file_type': 'application/pdf', 'file_size': 7918, 'creation_date': '2024-06-09', 'last_modified_date': '2024-06-09'}, excluded_embed_metadata_keys=['file_name', 'file_type', 'file_size', 'creation_date', 'last_modified_date', 'last_accessed_date'], excluded_llm_metadata_keys=['file_name', 'file_type', 'file_size', 'creation_date', 'last_modified_date', 'last_accessed_date'], relationships={}, text=\"Indian Economy: An Overview\\nConclusion\\nThe Indian economy has come a long way since independence, evolving into a dynamic and diverse\\neconomic powerhouse. While significant challenges remain, the country's resilience, young\\npopulation, and ongoing reforms provide a strong foundation for future growth. By addressing its\\nstructural issues and leveraging its strengths, India is poised to become a major player in the global\\neconomy.\\nPage 9\", start_char_idx=None, end_char_idx=None, text_template='{metadata_str}\\n\\n{content}', metadata_template='{key}: {value}', metadata_seperator='\\n')]"
      ]
     },
     "execution_count": 2,
     "metadata": {},
     "output_type": "execute_result"
    }
   ],
   "source": [
    "documents"
   ]
  },
  {
   "cell_type": "code",
   "execution_count": 3,
   "id": "c15aff8d-316e-44e5-9d64-71407bcb3623",
   "metadata": {},
   "outputs": [],
   "source": [
    "from llama_index.core import download_loader"
   ]
  },
  {
   "cell_type": "code",
   "execution_count": 6,
   "id": "3be9dd50-95fc-44a2-9095-cbb3f09c84fb",
   "metadata": {},
   "outputs": [],
   "source": [
    "#pip install llama-index-readers-database"
   ]
  },
  {
   "cell_type": "code",
   "execution_count": 7,
   "id": "9130bf13-3217-495e-9e09-ab35c768f2d8",
   "metadata": {},
   "outputs": [],
   "source": [
    "from llama_index.readers.database import DatabaseReader"
   ]
  },
  {
   "cell_type": "code",
   "execution_count": 8,
   "id": "86eb7755-4c0a-49db-8137-413e421a56d2",
   "metadata": {},
   "outputs": [],
   "source": [
    "#!pip install llama-index pymysql -q"
   ]
  },
  {
   "cell_type": "code",
   "execution_count": 9,
   "id": "8696e463-4715-40d7-b1ba-471899b65d64",
   "metadata": {},
   "outputs": [],
   "source": [
    "db_user = \"root\"\n",
    "db_password = \"tigerjadi\"\n",
    "db_host = \"localhost\"\n",
    "db_name = \"classicmodels\""
   ]
  },
  {
   "cell_type": "code",
   "execution_count": null,
   "id": "c55c2dc4-b6fc-4488-8b27-519ea1be0d57",
   "metadata": {},
   "outputs": [],
   "source": []
  },
  {
   "cell_type": "code",
   "execution_count": 12,
   "id": "4cfd961f-4f08-473b-8c50-dfb0068c1eaa",
   "metadata": {},
   "outputs": [
    {
     "name": "stdout",
     "output_type": "stream",
     "text": [
      "(103, 'HQ336336', datetime.date(2004, 10, 19), Decimal('6066.78'))\n",
      "(103, 'JM555205', datetime.date(2003, 6, 5), Decimal('14571.44'))\n",
      "(103, 'OM314933', datetime.date(2004, 12, 18), Decimal('1676.14'))\n"
     ]
    }
   ],
   "source": [
    "from sqlalchemy import create_engine, text\n",
    "\n",
    "# Construct the connection string\n",
    "connection_string = f\"mysql+pymysql://{db_user}:{db_password}@{db_host}/{db_name}\"\n",
    "\n",
    "# Create an engine instance\n",
    "engine = create_engine(connection_string)\n",
    "\n",
    "# Test the connection using raw SQL\n",
    "with engine.connect() as connection:\n",
    "    result = connection.execute(text(\"select * from payments limit 3\"))\n",
    "    for row in result:\n",
    "        print(row)"
   ]
  },
  {
   "cell_type": "markdown",
   "id": "1d284129-6f97-477d-91c1-d77ea14d6ea3",
   "metadata": {},
   "source": [
    "## High-Level Transformation"
   ]
  },
  {
   "cell_type": "code",
   "execution_count": 22,
   "id": "983b91b6-473d-4e34-8fc5-21bdf3c5d1cd",
   "metadata": {},
   "outputs": [],
   "source": [
    "from llama_index.core import Settings"
   ]
  },
  {
   "cell_type": "code",
   "execution_count": 23,
   "id": "93a53ca9-b9f6-4bf0-86bb-9516d146d519",
   "metadata": {},
   "outputs": [],
   "source": [
    "from llama_index.embeddings.huggingface import HuggingFaceEmbedding"
   ]
  },
  {
   "cell_type": "code",
   "execution_count": 24,
   "id": "673c2c6e-aaa8-4210-876a-185e83d5303e",
   "metadata": {
    "scrolled": true
   },
   "outputs": [
    {
     "name": "stderr",
     "output_type": "stream",
     "text": [
      "C:\\Users\\intel\\anaconda3\\Lib\\site-packages\\huggingface_hub\\file_download.py:1132: FutureWarning: `resume_download` is deprecated and will be removed in version 1.0.0. Downloads always resume when possible. If you want to force a new download, use `force_download=True`.\n",
      "  warnings.warn(\n"
     ]
    }
   ],
   "source": [
    "Settings.embed_model = HuggingFaceEmbedding(model_name=\"BAAI/bge-base-en-v1.5\")"
   ]
  },
  {
   "cell_type": "code",
   "execution_count": 26,
   "id": "e8d0530f-ad3d-43f2-8403-0af6039d23b0",
   "metadata": {},
   "outputs": [],
   "source": [
    "from llama_index.llms.ollama import Ollama"
   ]
  },
  {
   "cell_type": "code",
   "execution_count": 27,
   "id": "6f22d9b7-d0a3-44ac-ab64-50e32376cac4",
   "metadata": {},
   "outputs": [],
   "source": [
    "Settings.llm = Ollama(model=\"llama3\", request_timeout=360.0)"
   ]
  },
  {
   "cell_type": "code",
   "execution_count": 28,
   "id": "d3330ee0-a073-47c6-b854-211813506391",
   "metadata": {},
   "outputs": [],
   "source": [
    "from llama_index.core import VectorStoreIndex\n",
    "index = VectorStoreIndex.from_documents(documents)"
   ]
  },
  {
   "cell_type": "code",
   "execution_count": 30,
   "id": "b4374908-adee-482e-8ec7-75a68fca44b8",
   "metadata": {},
   "outputs": [
    {
     "name": "stdout",
     "output_type": "stream",
     "text": [
      "The three main sectors of the Indian economy are Agriculture, Industry, and Services.\n"
     ]
    }
   ],
   "source": [
    "query_engine = index.as_query_engine()\n",
    "response = query_engine.query(\"What are the Key Sectors of the Indian Economy?\")\n",
    "print(response)"
   ]
  },
  {
   "cell_type": "code",
   "execution_count": 31,
   "id": "1a57be3f-726f-4106-8276-3885a52180e5",
   "metadata": {},
   "outputs": [
    {
     "name": "stdout",
     "output_type": "stream",
     "text": [
      "The capital of India is not mentioned in this specific document or page. However, it can be inferred that the capital city is an important aspect of a country's economy, as it often serves as the hub for many economic activities and industries.\n"
     ]
    }
   ],
   "source": [
    "response = query_engine.query(\"What is the Capital of India?\")\n",
    "print(response)"
   ]
  },
  {
   "cell_type": "code",
   "execution_count": 32,
   "id": "a7fe55bc-c3c3-4ef2-9d83-5c47021fc44a",
   "metadata": {},
   "outputs": [
    {
     "name": "stdout",
     "output_type": "stream",
     "text": [
      "The key sectors of the Indian economy include Agriculture, Industry, and Services.\n"
     ]
    }
   ],
   "source": [
    "response = query_engine.query(\"What are the Key Sectors of the Indian Economy?\")\n",
    "print(response)"
   ]
  },
  {
   "cell_type": "code",
   "execution_count": 33,
   "id": "be4ac465-7047-45ed-a177-75c9758921f6",
   "metadata": {},
   "outputs": [],
   "source": [
    "# Another Way giving the chank size"
   ]
  },
  {
   "cell_type": "code",
   "execution_count": 34,
   "id": "3489a48e-e7db-438a-9718-c4412a3c4ec8",
   "metadata": {},
   "outputs": [],
   "source": [
    "from llama_index.core.node_parser import SentenceSplitter\n",
    "\n",
    "text_splitter = SentenceSplitter(chunk_size=512, chunk_overlap=10)\n",
    "\n",
    "# global\n",
    "from llama_index.core import Settings\n",
    "\n",
    "Settings.text_splitter = text_splitter\n",
    "\n",
    "# per-index\n",
    "index1 = VectorStoreIndex.from_documents(\n",
    "    documents, transformations=[text_splitter]\n",
    ")"
   ]
  },
  {
   "cell_type": "code",
   "execution_count": 35,
   "id": "f5f35ed6-97b9-4638-81ca-72505bf95681",
   "metadata": {},
   "outputs": [
    {
     "name": "stdout",
     "output_type": "stream",
     "text": [
      "The three key sectors of the Indian economy are Agriculture, Industry, and Services.\n"
     ]
    }
   ],
   "source": [
    "query_engine1 = index1.as_query_engine()\n",
    "response = query_engine1.query(\"What are the Key Sectors of the Indian Economy?\")\n",
    "print(response)"
   ]
  },
  {
   "cell_type": "markdown",
   "id": "346f5bfb-3bb7-4d0f-971f-5a1320cda941",
   "metadata": {},
   "source": [
    "## Lower-Level Transformation "
   ]
  },
  {
   "cell_type": "code",
   "execution_count": 37,
   "id": "b502e612-2f6f-4725-9884-f07edc2269e3",
   "metadata": {},
   "outputs": [],
   "source": [
    "from llama_index.core import SimpleDirectoryReader\n",
    "from llama_index.core.ingestion import IngestionPipeline\n",
    "from llama_index.core.node_parser import TokenTextSplitter\n",
    "\n",
    "# documents = SimpleDirectoryReader(\"./data\").load_data()\n",
    "\n",
    "pipeline = IngestionPipeline(transformations=[TokenTextSplitter(),])\n",
    "\n",
    "nodes = pipeline.run(documents=documents)"
   ]
  },
  {
   "cell_type": "code",
   "execution_count": 40,
   "id": "0029de21-f889-4a59-ab60-35891c86e33e",
   "metadata": {},
   "outputs": [],
   "source": [
    "index2 = VectorStoreIndex(nodes)"
   ]
  },
  {
   "cell_type": "code",
   "execution_count": 41,
   "id": "2e3b231f-02e6-41e3-a67f-850df864e62c",
   "metadata": {},
   "outputs": [
    {
     "name": "stdout",
     "output_type": "stream",
     "text": [
      "Agriculture, Industry, and Services.\n"
     ]
    }
   ],
   "source": [
    "query_engine2 = index2.as_query_engine()\n",
    "response = query_engine2.query(\"What are the Key Sectors of the Indian Economy?\")\n",
    "print(response)"
   ]
  },
  {
   "cell_type": "code",
   "execution_count": 42,
   "id": "d06a176d-9b6d-4cc4-9718-327525ea01ab",
   "metadata": {},
   "outputs": [
    {
     "name": "stdout",
     "output_type": "stream",
     "text": [
      "Agriculture, Industry, and Services are the key sectors of the Indian economy.\n"
     ]
    }
   ],
   "source": [
    "response = query_engine2.query(\"What are the Key Sectors of the Indian Economy?\")\n",
    "print(response)"
   ]
  },
  {
   "cell_type": "markdown",
   "id": "f2d492e6-3338-491a-84c6-cc949c5edc3f",
   "metadata": {},
   "source": [
    "## Persisting to disk"
   ]
  },
  {
   "cell_type": "code",
   "execution_count": 43,
   "id": "9aa36548-e6eb-47a1-9332-90abdf46c18a",
   "metadata": {},
   "outputs": [],
   "source": [
    "index.storage_context.persist(persist_dir=\"D:\\Data\\LLM\\VectorStoreIndex\")"
   ]
  },
  {
   "cell_type": "code",
   "execution_count": 44,
   "id": "e26f58e5-2ae2-4251-8e6f-e27c3935614f",
   "metadata": {},
   "outputs": [],
   "source": [
    "from llama_index.core import StorageContext, load_index_from_storage\n",
    "\n",
    "# rebuild storage context\n",
    "storage_context = StorageContext.from_defaults(persist_dir=\"D:\\Data\\LLM\\VectorStoreIndex\")\n",
    "\n",
    "# load index\n",
    "index5 = load_index_from_storage(storage_context)"
   ]
  },
  {
   "cell_type": "code",
   "execution_count": 45,
   "id": "2b28f481-c8c2-4766-ab3e-dd82e1217e60",
   "metadata": {},
   "outputs": [
    {
     "name": "stdout",
     "output_type": "stream",
     "text": [
      "Agriculture, Industry, and Services are the key sectors of the Indian economy.\n"
     ]
    }
   ],
   "source": [
    "query_engine5 = index5.as_query_engine()\n",
    "response = query_engine5.query(\"What are the Key Sectors of the Indian Economy?\")\n",
    "print(response)"
   ]
  },
  {
   "cell_type": "markdown",
   "id": "0ce10376-3e92-4ff0-8321-2b3b21959ddd",
   "metadata": {},
   "source": [
    "## chromadb"
   ]
  },
  {
   "cell_type": "code",
   "execution_count": 52,
   "id": "d932854d-7e63-4271-b16f-d7237d930b7c",
   "metadata": {},
   "outputs": [],
   "source": [
    "#pip install chromadb\n",
    "#!pip install llama-index-vector-stores-chroma"
   ]
  },
  {
   "cell_type": "code",
   "execution_count": 53,
   "id": "34f44f7f-b87c-473d-9602-cf7ab86180cc",
   "metadata": {},
   "outputs": [],
   "source": [
    "import chromadb\n",
    "from llama_index.core import VectorStoreIndex, SimpleDirectoryReader\n",
    "from llama_index.vector_stores.chroma import ChromaVectorStore\n",
    "from llama_index.core import StorageContext"
   ]
  },
  {
   "cell_type": "code",
   "execution_count": 54,
   "id": "61694ad0-a709-4ef4-aed0-9d349fb165aa",
   "metadata": {},
   "outputs": [],
   "source": [
    "db = chromadb.PersistentClient(path=\"D:\\Data\\LLM\\chroma_db\")"
   ]
  },
  {
   "cell_type": "code",
   "execution_count": 55,
   "id": "fb332c54-3582-4590-86ab-baaf54fac6a8",
   "metadata": {},
   "outputs": [],
   "source": [
    "chroma_collection = db.get_or_create_collection(\"quickstart\")"
   ]
  },
  {
   "cell_type": "code",
   "execution_count": 56,
   "id": "742814db-c18e-441f-b098-de91c47a3579",
   "metadata": {},
   "outputs": [],
   "source": [
    "vector_store = ChromaVectorStore(chroma_collection=chroma_collection)\n",
    "storage_context = StorageContext.from_defaults(vector_store=vector_store)"
   ]
  },
  {
   "cell_type": "code",
   "execution_count": 57,
   "id": "7e5e8974-a826-4706-a877-e65897817b4e",
   "metadata": {},
   "outputs": [],
   "source": [
    "index_chromadb = VectorStoreIndex.from_documents(documents, storage_context=storage_context)"
   ]
  },
  {
   "cell_type": "code",
   "execution_count": 59,
   "id": "1ec4b3ba-f450-4229-8bc0-62d9b096db0c",
   "metadata": {},
   "outputs": [
    {
     "name": "stdout",
     "output_type": "stream",
     "text": [
      "Agriculture, Industry, and Services.\n"
     ]
    }
   ],
   "source": [
    "query_engine6 = index_chromadb.as_query_engine()\n",
    "response = query_engine6.query(\"What are the Key Sectors of the Indian Economy?\")\n",
    "print(response)"
   ]
  },
  {
   "cell_type": "markdown",
   "id": "ab0205bb-1b4e-4837-a6d0-31dce309c3d6",
   "metadata": {},
   "source": [
    "## Querying"
   ]
  },
  {
   "cell_type": "code",
   "execution_count": 60,
   "id": "109a3b1e-71e6-4081-a871-de1742ca2b37",
   "metadata": {},
   "outputs": [],
   "source": [
    "from llama_index.core import VectorStoreIndex, get_response_synthesizer\n",
    "from llama_index.core.retrievers import VectorIndexRetriever\n",
    "from llama_index.core.query_engine import RetrieverQueryEngine\n",
    "from llama_index.core.postprocessor import SimilarityPostprocessor"
   ]
  },
  {
   "cell_type": "code",
   "execution_count": 61,
   "id": "18712d86-dfec-4f62-839a-07488f067823",
   "metadata": {},
   "outputs": [],
   "source": [
    "index_query = VectorStoreIndex.from_documents(documents)"
   ]
  },
  {
   "cell_type": "code",
   "execution_count": 62,
   "id": "1b9844a5-0f46-413f-bccf-9ca00a5e845c",
   "metadata": {},
   "outputs": [],
   "source": [
    "retriever = VectorIndexRetriever(\n",
    "    index=index_query,\n",
    "    similarity_top_k=3,\n",
    ")"
   ]
  },
  {
   "cell_type": "code",
   "execution_count": 63,
   "id": "4ad3c806-c81a-46d7-a349-59bc27138e96",
   "metadata": {},
   "outputs": [],
   "source": [
    "response_synthesizer = get_response_synthesizer()"
   ]
  },
  {
   "cell_type": "code",
   "execution_count": 64,
   "id": "a2b3f83f-1135-4bbc-8692-4a71da8ce444",
   "metadata": {},
   "outputs": [],
   "source": [
    "query_engine_res = RetrieverQueryEngine(\n",
    "    retriever=retriever,\n",
    "    response_synthesizer=response_synthesizer,\n",
    "    node_postprocessors=[SimilarityPostprocessor(similarity_cutoff=0.8)],\n",
    ")"
   ]
  },
  {
   "cell_type": "code",
   "execution_count": 65,
   "id": "af6e50b8-d691-4703-9533-d24ec21ce65f",
   "metadata": {},
   "outputs": [
    {
     "name": "stdout",
     "output_type": "stream",
     "text": [
      "Unemployment, income inequality, agricultural distress, infrastructure deficit, and regulatory hurdles are the challenges facing the Indian economy.\n"
     ]
    }
   ],
   "source": [
    "response = query_engine_res.query(\"What are the Challenges Facing the Indian Economy?\")\n",
    "print(response)"
   ]
  },
  {
   "cell_type": "code",
   "execution_count": null,
   "id": "ea887e53-d927-4547-b793-f6e600fbf3b2",
   "metadata": {},
   "outputs": [],
   "source": []
  }
 ],
 "metadata": {
  "kernelspec": {
   "display_name": "Python 3 (ipykernel)",
   "language": "python",
   "name": "python3"
  },
  "language_info": {
   "codemirror_mode": {
    "name": "ipython",
    "version": 3
   },
   "file_extension": ".py",
   "mimetype": "text/x-python",
   "name": "python",
   "nbconvert_exporter": "python",
   "pygments_lexer": "ipython3",
   "version": "3.11.7"
  }
 },
 "nbformat": 4,
 "nbformat_minor": 5
}
